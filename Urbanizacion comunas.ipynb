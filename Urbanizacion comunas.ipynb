{
 "cells": [
  {
   "cell_type": "code",
   "id": "initial_id",
   "metadata": {
    "collapsed": true,
    "ExecuteTime": {
     "end_time": "2024-09-16T14:59:07.476181Z",
     "start_time": "2024-09-16T14:59:07.433418Z"
    }
   },
   "source": [
    "import pandas as pd\n",
    "\n",
    "# Leer el archivo CSV especificando la codificación\n",
    "df = pd.read_csv(\"urbanización_comunas.csv\", encoding='windows-1252', sep=';')\n",
    "\n",
    "# Ignorar la fila que contiene 'Unidad territorial', 'Variable', '2017'\n",
    "df = df[df['Column1'] != 'Unidad territorial']\n",
    "\n",
    "# Pivotar el DataFrame para reorganizar las variables como columnas\n",
    "df_pivot = df.pivot(index='Column1', columns='Column2', values='Column3')\n",
    "\n",
    "# Restaurar la columna de comunas desde el índice\n",
    "df_pivot.reset_index(inplace=True)\n",
    "\n",
    "# Verificar los nombres de las columnas después del pivot (opcional)\n",
    "print(\"Nombres de las columnas después del pivot:\")\n",
    "print(df_pivot.columns)\n",
    "\n",
    "# Ahora, ajusta los nombres de las columnas según sea necesario. Ejemplo:\n",
    "# Si los nombres contienen espacios adicionales o caracteres especiales:\n",
    "df_pivot.columns = df_pivot.columns.str.strip()  # Eliminar espacios en blanco\n",
    "\n",
    "# Convertir las columnas 'Población zona Urbana', 'Población zona Rural', y 'Población total' a numérico\n",
    "if 'Población zona Urbana' in df_pivot.columns:\n",
    "    df_pivot['Población zona Urbana'] = pd.to_numeric(df_pivot['Población zona Urbana'], errors='coerce')\n",
    "if 'Población zona Rural' in df_pivot.columns:\n",
    "    df_pivot['Población zona Rural'] = pd.to_numeric(df_pivot['Población zona Rural'], errors='coerce')\n",
    "if 'Población total' in df_pivot.columns:\n",
    "    df_pivot['Población total'] = pd.to_numeric(df_pivot['Población total'], errors='coerce')\n",
    "\n",
    "# Calcular nuevos porcentajes solo si las columnas de población están presentes\n",
    "if 'Población zona Urbana' in df_pivot.columns and 'Población total' in df_pivot.columns:\n",
    "    df_pivot['Porcentaje de población zona urbana'] = (df_pivot['Población zona Urbana'] / df_pivot['Población total']) * 100\n",
    "if 'Población zona Rural' in df_pivot.columns and 'Población total' in df_pivot.columns:\n",
    "    df_pivot['Porcentaje de población zona rural'] = (df_pivot['Población zona Rural'] / df_pivot['Población total']) * 100\n",
    "\n",
    "\n",
    "# Guardar el nuevo DataFrame en un archivo CSV o imprimir el resultado\n",
    "df_pivot.to_csv('urbanizacion_comunas.csv', index=False)\n",
    "\n",
    "# Mostrar el DataFrame reorganizado\n",
    "print(df_pivot.head())\n"
   ],
   "outputs": [
    {
     "name": "stdout",
     "output_type": "stream",
     "text": [
      "Nombres de las columnas después del pivot:\n",
      "Index(['Column1', ' Población total', ' Población zona Rural',\n",
      "       ' Población zona Urbana', ' Porcentaje de población zona rural',\n",
      "       ' Porcentaje de población zona urbana'],\n",
      "      dtype='object', name='Column2')\n",
      "Column2          Column1  Población total  Población zona Rural  \\\n",
      "0              Algarrobo           138170                 29180   \n",
      "1                  Alhué            64440                 36600   \n",
      "2            Alto Biobío            59230                 59230   \n",
      "3        Alto Del Carmen            52990                 52990   \n",
      "4          Alto Hospicio          1083750                 24910   \n",
      "\n",
      "Column2  Población zona Urbana  Porcentaje de población zona rural  \\\n",
      "0                       108990                           21.118911   \n",
      "1                        27840                           56.797020   \n",
      "2                            0                          100.000000   \n",
      "3                            0                          100.000000   \n",
      "4                      1058840                            2.298501   \n",
      "\n",
      "Column2  Porcentaje de población zona urbana  \n",
      "0                                  78.881089  \n",
      "1                                  43.202980  \n",
      "2                                   0.000000  \n",
      "3                                   0.000000  \n",
      "4                                  97.701499  \n"
     ]
    }
   ],
   "execution_count": 6
  },
  {
   "metadata": {},
   "cell_type": "code",
   "outputs": [],
   "execution_count": null,
   "source": "",
   "id": "ea55f7b33fa49551"
  }
 ],
 "metadata": {
  "kernelspec": {
   "display_name": "Python 3",
   "language": "python",
   "name": "python3"
  },
  "language_info": {
   "codemirror_mode": {
    "name": "ipython",
    "version": 2
   },
   "file_extension": ".py",
   "mimetype": "text/x-python",
   "name": "python",
   "nbconvert_exporter": "python",
   "pygments_lexer": "ipython2",
   "version": "2.7.6"
  }
 },
 "nbformat": 4,
 "nbformat_minor": 5
}
