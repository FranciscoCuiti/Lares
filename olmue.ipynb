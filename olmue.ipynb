{
 "cells": [
  {
   "cell_type": "markdown",
   "id": "53a347ba",
   "metadata": {},
   "source": [
    "---\n",
    "title: \"OLMUE\"\n",
    "author: \"Sebastian Yanez\"\n",
    "date: \"2024-07-09\"\n",
    "output: html_document\n",
    "---\n",
    "##Reiniciar"
   ]
  },
  {
   "cell_type": "code",
   "id": "ad1effb5",
   "metadata": {
    "ExecuteTime": {
     "end_time": "2024-08-05T17:49:06.182438Z",
     "start_time": "2024-08-05T17:49:05.614065Z"
    }
   },
   "source": [
    "rm(list=ls())         # Limpia la lista de objetos \n",
    "graphics.off()        # Limpia la lista de gráficos"
   ],
   "outputs": [
    {
     "ename": "NameError",
     "evalue": "name 'rm' is not defined",
     "output_type": "error",
     "traceback": [
      "\u001B[1;31m---------------------------------------------------------------------------\u001B[0m",
      "\u001B[1;31mNameError\u001B[0m                                 Traceback (most recent call last)",
      "Cell \u001B[1;32mIn[2], line 1\u001B[0m\n\u001B[1;32m----> 1\u001B[0m rm(\u001B[38;5;28mlist\u001B[39m\u001B[38;5;241m=\u001B[39mls())         \u001B[38;5;66;03m# Limpia la lista de objetos \u001B[39;00m\n\u001B[0;32m      2\u001B[0m graphics\u001B[38;5;241m.\u001B[39moff()\n",
      "\u001B[1;31mNameError\u001B[0m: name 'rm' is not defined"
     ]
    }
   ],
   "execution_count": 2
  },
  {
   "cell_type": "code",
   "execution_count": null,
   "id": "7c991754",
   "metadata": {},
   "outputs": [],
   "source": [
    "%%R\n",
    "#install.packages(\"mapview\")\n",
    "library(mapview)"
   ]
  },
  {
   "cell_type": "code",
   "execution_count": null,
   "id": "5864b85d",
   "metadata": {},
   "outputs": [],
   "source": [
    "%%R\n",
    "library(dplyr) \n",
    "library(ggplot2)\n",
    "library(knitr)\n",
    "library(cowplot)\n",
    "library(kableExtra)\n",
    "library(modelsummary)\n",
    "library(mlogit)\n",
    "library(lubridate)\n",
    "library(tidyverse)\n",
    "#library(Hmisc) \n",
    "library(tidyverse)\n",
    "library(prettydoc)\n",
    "library(readr)\n",
    "library(haven)\n",
    "library(corrplot)\n",
    "library(ggcorrplot)\n",
    "library(utils)\n",
    "library(stringr)\n",
    "library(openxlsx)\n",
    "library(lubridate)\n",
    "library(gridExtra)"
   ]
  },
  {
   "cell_type": "markdown",
   "id": "e9254176",
   "metadata": {},
   "source": [
    "##Leer csv"
   ]
  },
  {
   "cell_type": "code",
   "execution_count": null,
   "id": "5259a9e6",
   "metadata": {},
   "outputs": [],
   "source": [
    "%%R\n",
    "setwd(\"C:/Users/franc/OneDrive - Universidad de Chile/Escritorio/Lares/Patricio/TODAS LAS COMUNAS\")\n",
    "data <- read.csv2(\"C:/Users/franc/OneDrive - Universidad de Chile/Escritorio/Lares/Patricio/TODAS LAS COMUNAS/data_terrenos_menos_5000_desde_2021.csv\")"
   ]
  },
  {
   "cell_type": "markdown",
   "id": "62e0e3d4",
   "metadata": {},
   "source": [
    "#####################################LIMPIAR DATA####################################################################\n",
    "\n",
    "#sacar comillas de los datos"
   ]
  },
  {
   "cell_type": "code",
   "execution_count": null,
   "id": "4d0919a7",
   "metadata": {},
   "outputs": [],
   "source": [
    "%%R\n",
    "data <- data.frame(lapply(data, function(x) {\n",
    "  if(is.character(x)) return(gsub(\"'\", \"\", x))\n",
    "  else return(x)\n",
    "}))"
   ]
  },
  {
   "cell_type": "markdown",
   "id": "3c7d40a1",
   "metadata": {},
   "source": [
    "#renombrar las variables"
   ]
  },
  {
   "cell_type": "code",
   "execution_count": null,
   "id": "50cabba0",
   "metadata": {},
   "outputs": [],
   "source": [
    "%%R\n",
    "names(data) <- gsub(\"^X.|.$\", \"\", names(data))"
   ]
  },
  {
   "cell_type": "markdown",
   "id": "445780dd",
   "metadata": {},
   "source": [
    "#rectificar columna descripción quedan 98009"
   ]
  },
  {
   "cell_type": "code",
   "execution_count": null,
   "id": "0e68106e",
   "metadata": {},
   "outputs": [],
   "source": [
    "%%R\n",
    "is.numeric.string <- function(s) {\n",
    "  return(!any(is.na(suppressWarnings(as.numeric(s)))))\n",
    "}\n",
    "\n",
    "data$descripcion_2 <- NA\n",
    "\n",
    "for (i in 2:nrow(data)) {\n",
    "  if (!is.numeric.string(data$id[i])) {\n",
    "    data$descripcion_2[i-1] <- data$id[i]\n",
    "  }\n",
    "}\n",
    "text_rows <- sapply(data$id, function(x) !is.numeric.string(x))\n",
    "data <- data[!text_rows, ]"
   ]
  },
  {
   "cell_type": "markdown",
   "id": "2e4690f5",
   "metadata": {},
   "source": [
    "######################################FORMATO DE VARIABLES#####################################################################\n",
    "\n",
    "#Rectificar nombres **(REVISAR)**"
   ]
  },
  {
   "cell_type": "code",
   "execution_count": null,
   "id": "84a25804",
   "metadata": {},
   "outputs": [],
   "source": [
    "%%R\n",
    "correcciones <- c(\n",
    "  \"Concepcion\" = \"ConcepciÃ³n\",\n",
    "  \"Conepcion\" = \"ConcepciÃ³n\",\n",
    "  \"Viña Del Mar \" = \"ViÃ±a del Mar\",\n",
    "  \"Cochamo\" = \"CochamÃ³\",\n",
    "  \"Donihue\" = \"DoÃ±ihue\",\n",
    "  \"Hualaihue\" = \"HualaihuÃ©\",\n",
    "  \"LaReina\" = \"La Reina\",\n",
    "  \"Llaillay\" = \"Llayllay\",\n",
    "  \"Llay Llay\" = \"Llayllay\",\n",
    "  \"Los Alamos\" = \"Los Ãlamos\",\n",
    "  \"Mostazal\" = \"San Francisco De Mostazal\",\n",
    "  \"Francisco Mostazal\" = \"San Francisco De Mostazal\",\n",
    "  \"Licanten\" = \"LicantÃ©n\",\n",
    "  \"Ohiggins\" = \"OHiggins\",\n",
    "  \"Natales\" = \"Puerto Natales\",\n",
    "  \"Queilen\" = \"QueilÃ©n\",\n",
    "  \"Quinta de Tilcoco\" = \"Quinta De Tilcoco\",\n",
    "  \"Rio Ibanez\" = \"RÃ­o IbÃ¡Ã±ez\",\n",
    "  \"San Jose De La Mariquina\" = \"San JosÃ© De La Mariquina\",\n",
    "  \"San Jose  de Maipo\" = \"San JosÃ© De Maipo\",\n",
    "  \"San Juan de la Costa\" = \"San Juan De La Costa\",\n",
    "  \"San Juan de La Costa\" = \"San Juan De La Costa\",\n",
    "  \"San Pedro de la Paz\" = \"San Pedro De La Paz\",\n",
    "  \"San Vicente\" = \"San Vicente De Tagua Tagua\",\n",
    "  \"Chol Chol\" = \"Cholchol\",\n",
    "  \"Copiapo\" = \"CopiapÃ³\",\n",
    "  \"Hualane\" = \"HualaÃ±Ã©\",\n",
    "  \"Longuimay\" = \"Lonquimay\"\n",
    ")\n",
    "for (correccion in names(correcciones)) {\n",
    "  data$region <- gsub(correccion, correcciones[correccion], data$region)\n",
    "}"
   ]
  },
  {
   "cell_type": "markdown",
   "id": "f704da55",
   "metadata": {},
   "source": [
    "#Mayúscula y sin tildes"
   ]
  },
  {
   "cell_type": "code",
   "execution_count": null,
   "id": "8329b416",
   "metadata": {},
   "outputs": [],
   "source": [
    "%%R\n",
    "data$comuna <- toupper(data$comuna)\n",
    "data$region <- toupper(data$region)\n",
    "data$descripcion <- toupper(data$descripcion)\n",
    "data$direccion <- toupper(data$direccion)\n",
    "data$concat <- toupper(data$concat)\n",
    "\n",
    "data$comuna <- iconv(data$comuna, to = \"ASCII//TRANSLIT\")\n",
    "data$region <- iconv(data$region, to = \"ASCII//TRANSLIT\")\n",
    "data$descripcion <- iconv(data$descripcion, to = \"ASCII//TRANSLIT\")\n",
    "data$direccion <- iconv(data$direccion, to = \"ASCII//TRANSLIT\")\n",
    "data$concat <- iconv(data$concat, to = \"ASCII//TRANSLIT\")"
   ]
  },
  {
   "cell_type": "markdown",
   "id": "fb1ed57d",
   "metadata": {},
   "source": [
    "#Conteo NULL(20729), NA(0) en columna comuna"
   ]
  },
  {
   "cell_type": "code",
   "execution_count": null,
   "id": "cdf5ec66",
   "metadata": {},
   "outputs": [],
   "source": [
    "%%R\n",
    "sum(data$comuna == \"NULL\")\n",
    "sum(data$comuna == 'NA')\n",
    "sum(data$region == 'NULL')\n",
    "sum(data$region == 'NA')"
   ]
  },
  {
   "cell_type": "markdown",
   "id": "07a1c781",
   "metadata": {},
   "source": [
    "#Regiones y comunas"
   ]
  },
  {
   "cell_type": "code",
   "execution_count": null,
   "id": "120e10e9",
   "metadata": {},
   "outputs": [],
   "source": [
    "%%R\n",
    "regiones_comunas <- list(\n",
    "  \"ARICA Y PARINACOTA\" = c(\"ARICA\", \"CAMARONES\", \"GENERAL LAGOS\", \"PUTRE\"),\n",
    "  \"TARAPACA\" = c(\"ALTO HOSPICIO\", \"IQUIQUE\", \"HUARA\", \"CAMINA\", \"COLCHANE\", \"PICA\", \"POZO ALMONTE\"),\n",
    "  \"ANTOFAGASTA\" = c(\"ANTOFAGASTA\", \"CALAMA\", \"MARIA ELENA\", \"MEJILLONES\", \"OLLAGUE\", \"SAN PEDRO DE ATACAMA\", \"SIERRA GORDA\", \"TALTAL\", \"TOCOPILLA\"),\n",
    "  \"ATACAMA\" = c(\"ALTO DEL CARMEN\", \"CALDERA\", \"CHANARAL\", \"COPIAPO\", \"DIEGO DE ALMAGRO\", \"FREIRINA\", \"HUASCO\", \"TIERRA AMARILLA\", \"VALLENAR\"),\n",
    "  \"COQUIMBO\" = c(\"ANDACOLLO\", \"CANELA\", \"COMBARBALA\", \"COQUIMBO\", \"ILLAPEL\", \"LA HIGUERA\", \"LA SERENA\", \"LOS VILOS\", \"MONTE PATRIA\", \"OVALLE\", \"PAIHUANO\", \"PUNITAQUI\", \"RIO HURTADO\", \"SALAMANCA\", \"VICUNA\"),\n",
    "  \"VALPARAISO\" = c(\"ALGARROBO\", \"CABILDO\", \"CALLE LARGA\", \"CARTAGENA\", \"CASABLANCA\", \"CATEMU\", \"CONCON\", \"EL QUISCO\", \"EL TABO\", \"HIJUELAS\", \"ISLA DE PASCUA\", \"JUAN FERNANDEZ\", \"LA CALERA\", \"LA CRUZ\", \"LA LIGUA\", \"LIMACHE\", \"LLAILLAY\", \"LOS ANDES\", \"NOGALES\", \"OLMUE\", \"PANQUEHUE\", \"PAPUDO\", \"PETORCA\", \"PUCHUNCAVI\", \"PUTAENDO\", \"QUILLOTA\", \"QUILPUE\", \"QUINTERO\", \"RINCONADA\", \"SAN ANTONIO\", \"SAN ESTEBAN\", \"SAN FELIPE\", \"SANTA MARIA\", \"SANTO DOMINGO\", \"VALPARAISO\", \"VILLA ALEMANA\", \"VINA DEL MAR\", \"ZAPALLAR\"),\n",
    "  \"METROPOLITANA\" = c(\"ALHUE\", \"BUIN\", \"CALERA DE TANGO\", \"CERRILLOS\", \"CERRO NAVIA\", \"COLINA\", \"CONCHALI\", \"CURACAVI\", \"EL BOSQUE\", \"EL MONTE\", \"ESTACION CENTRAL\", \"HUECHURABA\", \"INDEPENDENCIA\", \"ISLA DE MAIPO\", \"LA CISTERNA\", \"LA FLORIDA\", \"LA GRANJA\", \"LAMPA\", \"LA PINTANA\", \"LA REINA\", \"LAS CONDES\", \"LO BARNECHEA\", \"LO ESPEJO\", \"LO PRADO\", \"MACUL\", \"MAIPU\", \"MARIA PINTO\", \"MELIPILLA\", \"NUNOA\", \"PADRE HURTADO\", \"PAINE\", \"PEDRO AGUIRRE CERDA\", \"PENAFLOR\", \"PENALOLEN\", \"PIRQUE\", \"PROVIDENCIA\", \"PUDAHUEL\", \"PUENTE ALTO\", \"QUILICURA\", \"QUINTA NORMAL\", \"RECOLETA\", \"RENCA\", \"SAN BERNARDO\", \"SAN JOAQUIN\", \"SAN JOSE DE MAIPO\", \"SAN MIGUEL\", \"SAN PEDRO\", \"SAN RAMON\", \"SANTIAGO\", \"TALAGANTE\", \"TILTIL\", \"VITACURA\"),\n",
    "  \"LIBERTADOR GENERAL BERNARDO OHIGGINS\" = c(\"CHEPICA\", \"CHIMBARONGO\", \"CODEGUA\", \"COINCO\", \"COLTAUCO\", \"DONIHUE\", \"GRANEROS\", \"LA ESTRELLA\", \"LAS CABRAS\", \"LITUECHE\", \"LOLOL\", \"MACHALI\", \"MALLOA\", \"MARCHIHUE\", \"MOSTAZAL\", \"NANCAGUA\", \"NAVIDAD\", \"OLIVAR\", \"PALMILLA\", \"PAREDONES\", \"PERALILLO\", \"PEUMO\", \"PICHIDEGUA\", \"PICHILEMU\", \"PLACILLA\", \"PUMANQUE\", \"QUINTA DE TILCOCO\", \"RANCAGUA\", \"RENGO\", \"REQUINOA\", \"SAN FERNANDO\", \"SANTA CRUZ\", \"SAN VICENTE\"),\n",
    "  \"MAULE\" = c(\"CAUQUENES\", \"CHANCO\", \"COLBUN\", \"CONSTITUCION\", \"CUREPTO\", \"CURICO\", \"EMPEDRADO\", \"HUALANE\", \"LICANTEN\", \"LINARES\", \"LONGAVI\", \"MAULE\", \"MOLINA\", \"PARRAL\", \"PELARCO\", \"PELLUHUE\", \"PENCAHUE\", \"RAUCO\", \"RETIRO\", \"RIO CLARO\", \"ROMERAL\", \"SAGRADA FAMILIA\", \"SAN CLEMENTE\", \"SAN JAVIER\", \"SAN RAFAEL\", \"TALCA\", \"TENO\", \"VICHUQUEN\", \"VILLA ALEGRE\", \"YERBAS BUENAS\"),\n",
    "  \"NUBLE\" = c(\"BULNES\", \"CHILLAN\", \"CHILLAN VIEJO\", \"COBQUECURA\", \"COELEMU\", \"COIHUECO\", \"EL CARMEN\", \"NINHUE\", \"NIQUEN\", \"PEMUCO\", \"PINTO\", \"PORTEZUELO\", \"QUILLON\", \"QUIRIHUE\", \"SAN CARLOS\", \"SAN FABIAN\", \"SAN IGNACIO\", \"SAN NICOLAS\", \"TREGUACO\", \"YUNGAY\"),\n",
    "  \"BIOBIO\" = c(\"ALTO BIOBIO\", \"ANTUCO\", \"ARAUCO\", \"CABRERO\", \"CANETE\", \"CHIGUAYANTE\", \"CONCEPCION\", \"CONTULMO\", \"CORONEL\", \"CURANILAHUE\", \"FLORIDA\", \"HUALPEN\", \"HUALQUI\", \"LAJA\", \"LEBU\", \"LOS ALAMOS\", \"LOS ANGELES\", \"LOTA\", \"MULCHEN\", \"NACIMIENTO\", \"NEGRETE\", \"PENCO\", \"QUILACO\", \"QUILLECO\", \"SAN PEDRO DE LA PAZ\", \"SAN ROSENDO\", \"SANTA BARBARA\", \"SANTA JUANA\", \"TALCAHUANO\", \"TIRUA\", \"TOME\", \"TUCAPEL\", \"YUMBEL\"),\n",
    "  \"ARAUCANIA\" = c(\"ANGOL\", \"CARAHUE\", \"CHOLCHOL\", \"COLLIPULLI\", \"CUNCO\", \"CURACAUTIN\", \"CURARREHUE\", \"ERCILLA\", \"FREIRE\", \"GALVARINO\", \"GORBEA\", \"LAUTARO\", \"LONCOCHE\", \"LONQUIMAY\", \"LOS SAUCES\", \"LUMACO\", \"MELIPEUCO\", \"NUEVA IMPERIAL\", \"PADRE LAS CASAS\", \"PERQUENCO\", \"PITRUFQUEN\", \"PUCON\", \"PUREN\", \"RENAICO\", \"SAAVEDRA\", \"TEMUCO\", \"TEODORO SCHMIDT\", \"TOLTEN\", \"TRAIGUEN\", \"VICTORIA\", \"VILCUN\", \"VILLARRICA\"),\n",
    "  \"LOS RIOS\" = c(\"CORRAL\", \"FUTRONO\", \"LAGO RANCO\", \"LANCO\", \"LA UNION\", \"LOS LAGOS\", \"MAFIL\", \"MARIQUINA\", \"PAILLACO\", \"PANGUIPULLI\", \"RIO BUENO\", \"VALDIVIA\"),\n",
    "  \"LOS LAGOS\" = c(\"ANCUD\", \"CALBUCO\", \"CASTRO\", \"CHAITEN\", \"CHONCHI\", \"COCHAMO\", \"CURACO DE VELEZ\", \"DALCAHUE\", \"FRESIA\", \"FRUTILLAR\", \"FUTALEUFU\", \"HUALAIHUE\", \"LLANQUIHUE\", \"LOS MUERMOS\", \"MAULLIN\", \"OSORNO\", \"PALENA\", \"PUERTO MONTT\", \"PUERTO OCTAY\", \"PUERTO VARAS\", \"PUQUELDON\", \"PURRANQUE\", \"PUYEHUE\", \"QUEILEN\", \"QUELLON\", \"QUEMCHI\", \"QUINCHAO\", \"RIO NEGRO\", \"SAN JUAN DE LA COSTA\", \"SAN PABLO\"),\n",
    "  \"AYSEN\" = c(\"AYSEN\", \"CHILE CHICO\", \"CISNES\", \"COCHRANE\", \"COYHAIQUE\", \"GUAITECAS\", \"LAGO VERDE\", \"OHIGGINS\", \"RIO IBANEZ\", \"TORTEL\"),\n",
    "  \"MAGALLANES\" = c(\"ANTARTICA\", \"CABO DE HORNOS\", \"LAGUNA BLANCA\", \"NATALES\", \"PORVENIR\", \"PRIMAVERA\", \"PUNTA ARENAS\", \"RIO VERDE\", \"SAN GREGORIO\", \"TIMAUKEL\", \"TORRES DEL PAINE\")\n",
    ")"
   ]
  },
  {
   "cell_type": "code",
   "execution_count": null,
   "id": "85fb9b3c",
   "metadata": {},
   "outputs": [],
   "source": [
    "%%R\n",
    "regiones <- names(regiones_comunas)\n",
    "regiones_regex <- paste(regiones, collapse = \"|\")\n",
    "\n",
    "comunas <- unlist(regiones_comunas)\n",
    "comunas_regex <- paste(comunas, collapse = \"|\")\n",
    "\n",
    "names(data) <- make.names(names(data), unique = TRUE)"
   ]
  },
  {
   "cell_type": "markdown",
   "id": "ba1737c3",
   "metadata": {},
   "source": [
    "#Filtrar filas donde comuna es cadena vacía \"\""
   ]
  },
  {
   "cell_type": "code",
   "execution_count": null,
   "id": "810ade7b",
   "metadata": {},
   "outputs": [],
   "source": [
    "%%R\n",
    "conteo0 <- data %>%\n",
    "  filter(comuna == \"\")"
   ]
  },
  {
   "cell_type": "markdown",
   "id": "a909bfd0",
   "metadata": {},
   "source": [
    "#Eliminar obs df original"
   ]
  },
  {
   "cell_type": "code",
   "execution_count": null,
   "id": "f8393a51",
   "metadata": {},
   "outputs": [],
   "source": [
    "%%R\n",
    "data <- anti_join(data, conteo0)"
   ]
  },
  {
   "cell_type": "markdown",
   "id": "8250707b",
   "metadata": {},
   "source": [
    "#Reemplazo"
   ]
  },
  {
   "cell_type": "code",
   "execution_count": null,
   "id": "fbcda1ae",
   "metadata": {},
   "outputs": [],
   "source": [
    "%%R\n",
    "conteo0$comuna <- str_extract(conteo0$descripcion, comunas_regex)"
   ]
  },
  {
   "cell_type": "markdown",
   "id": "8a805329",
   "metadata": {},
   "source": [
    "#Nuevo df"
   ]
  },
  {
   "cell_type": "code",
   "execution_count": null,
   "id": "1f617f66",
   "metadata": {},
   "outputs": [],
   "source": [
    "%%R\n",
    "conteo0_new <- conteo0 %>%\n",
    "  filter(!is.na(comuna))"
   ]
  },
  {
   "cell_type": "markdown",
   "id": "2d0e2b3b",
   "metadata": {},
   "source": [
    "#Eliminar obs df original"
   ]
  },
  {
   "cell_type": "code",
   "execution_count": null,
   "id": "d8c1d7c8",
   "metadata": {},
   "outputs": [],
   "source": [
    "%%R\n",
    "conteo0 <- anti_join(conteo0, conteo0_new)"
   ]
  },
  {
   "cell_type": "markdown",
   "id": "9de8e46e",
   "metadata": {},
   "source": [
    "#Conteo1 usar \"descripción\" para rellenar se reemplazaron 5122"
   ]
  },
  {
   "cell_type": "code",
   "execution_count": null,
   "id": "5af0f4ba",
   "metadata": {},
   "outputs": [],
   "source": [
    "%%R\n",
    "conteo1 <- data %>%\n",
    "  filter(comuna == \"NULL\")"
   ]
  },
  {
   "cell_type": "markdown",
   "id": "0dd1236e",
   "metadata": {},
   "source": [
    "#Eliminar obs df original"
   ]
  },
  {
   "cell_type": "code",
   "execution_count": null,
   "id": "6d0e961b",
   "metadata": {},
   "outputs": [],
   "source": [
    "%%R\n",
    "data <- anti_join(data, conteo1)"
   ]
  },
  {
   "cell_type": "markdown",
   "id": "53ec8b68",
   "metadata": {},
   "source": [
    "#Reemplazo"
   ]
  },
  {
   "cell_type": "code",
   "execution_count": null,
   "id": "06d94545",
   "metadata": {},
   "outputs": [],
   "source": [
    "%%R\n",
    "conteo1$comuna <- str_extract(conteo1$descripcion, comunas_regex)"
   ]
  },
  {
   "cell_type": "markdown",
   "id": "ed7e09d3",
   "metadata": {},
   "source": [
    "#Contar obs no reemplazadas"
   ]
  },
  {
   "cell_type": "code",
   "execution_count": null,
   "id": "1bb2be4c",
   "metadata": {},
   "outputs": [],
   "source": [
    "%%R\n",
    "na_count <- sum(is.na(conteo1$comuna))"
   ]
  },
  {
   "cell_type": "markdown",
   "id": "4f4be4b9",
   "metadata": {},
   "source": [
    "#Conteo2 usar \"concat\" para rellenar"
   ]
  },
  {
   "cell_type": "code",
   "execution_count": null,
   "id": "85216015",
   "metadata": {},
   "outputs": [],
   "source": [
    "%%R\n",
    "conteo_2 <- subset(conteo1, is.na(comuna))"
   ]
  },
  {
   "cell_type": "markdown",
   "id": "c77ef3e4",
   "metadata": {},
   "source": [
    "#Eliminar obs df original"
   ]
  },
  {
   "cell_type": "code",
   "execution_count": null,
   "id": "e5b9f412",
   "metadata": {},
   "outputs": [],
   "source": [
    "%%R\n",
    "conteo1 <- anti_join(conteo1, conteo_2)"
   ]
  },
  {
   "cell_type": "markdown",
   "id": "4530dad9",
   "metadata": {},
   "source": [
    "#Reemplazo"
   ]
  },
  {
   "cell_type": "code",
   "execution_count": null,
   "id": "5ecb1706",
   "metadata": {},
   "outputs": [],
   "source": [
    "%%R\n",
    "conteo_2$comuna <- str_extract(conteo_2$concat, comunas_regex)"
   ]
  },
  {
   "cell_type": "markdown",
   "id": "e7b69a87",
   "metadata": {},
   "source": [
    "#Contar obs no reemplazadas"
   ]
  },
  {
   "cell_type": "code",
   "execution_count": null,
   "id": "2aff13e8",
   "metadata": {},
   "outputs": [],
   "source": [
    "%%R\n",
    "na_count_2 <- sum(is.na(conteo_2$comuna))"
   ]
  },
  {
   "cell_type": "markdown",
   "id": "1d5a3d62",
   "metadata": {},
   "source": [
    "#Conteo3"
   ]
  },
  {
   "cell_type": "code",
   "execution_count": null,
   "id": "423544e9",
   "metadata": {},
   "outputs": [],
   "source": [
    "%%R\n",
    "conteo_3 <- subset(conteo_2, is.na(comuna))"
   ]
  },
  {
   "cell_type": "markdown",
   "id": "28e09cbb",
   "metadata": {},
   "source": [
    "#Eliminar obs df original"
   ]
  },
  {
   "cell_type": "code",
   "execution_count": null,
   "id": "d21aa58b",
   "metadata": {},
   "outputs": [],
   "source": [
    "%%R\n",
    "conteo_2 <- anti_join(conteo_2, conteo_3)"
   ]
  },
  {
   "cell_type": "markdown",
   "id": "9737207f",
   "metadata": {},
   "source": [
    "#Resultados sin NA"
   ]
  },
  {
   "cell_type": "code",
   "execution_count": null,
   "id": "1fcf27a1",
   "metadata": {},
   "outputs": [],
   "source": [
    "%%R\n",
    "df <- rbind(data,conteo0_new, conteo1, conteo_2)\n",
    "\n",
    "asignar_region <- function(comuna) {\n",
    "  for (region in names(regiones_comunas)) {\n",
    "    if (comuna %in% regiones_comunas[[region]]) {\n",
    "      return(region)\n",
    "    }\n",
    "  }\n",
    "  return(NA)  # Si no se encuentra la comuna en ninguna regiÃ³n\n",
    "}"
   ]
  },
  {
   "cell_type": "markdown",
   "id": "b0a41511",
   "metadata": {},
   "source": [
    "#Reemplazar valores \"NULL\" en \"region\", usando la función asignar_region"
   ]
  },
  {
   "cell_type": "code",
   "execution_count": null,
   "id": "f9aef6fe",
   "metadata": {},
   "outputs": [],
   "source": [
    "%%R\n",
    "df$region <- ifelse(df$region == 'NULL', sapply(df$comuna, asignar_region), df$region)"
   ]
  },
  {
   "cell_type": "code",
   "execution_count": null,
   "id": "e04be331",
   "metadata": {},
   "outputs": [],
   "source": [
    "%%R\n",
    "datos <- df "
   ]
  },
  {
   "cell_type": "markdown",
   "id": "4447df5d",
   "metadata": {},
   "source": [
    "#Tamaño"
   ]
  },
  {
   "cell_type": "code",
   "execution_count": null,
   "id": "e1bf90dc",
   "metadata": {},
   "outputs": [],
   "source": [
    "%%R\n",
    "pattern <- \"\\\\b\\\\d+[.,]?\\\\d*\\\\s*(M2|MTS|MS2|MTS2|HAS|HA|HECTAREA|HECTAREAS|METROS CUADRADOS)\\\\b\"\n",
    "datos$tamaño <- str_extract(datos$descripcion, pattern)\n",
    "\n",
    "words <- \"\\\\b(M2|MTS|MS2|MTS2|HAS|HA|HECTAREA|HECTAREAS|METROS CUADRADOS)\\\\b\"\n",
    "datos$word_1 <- str_extract(datos$tamaño, \"M2|MTS|MS2|MTS2|HAS|HA|HECTAREAS|HECTAREA|METROS CUADRADOS\")\n",
    "\n",
    "datos$number <- str_extract(datos$tamaño, \"\\\\d+[.,]?\\\\d*\")\n",
    "datos$number <- gsub(\"\\\\.\", \"\", datos$number)\n",
    "datos$number  <- gsub(\",\", \".\", datos$number)\n",
    "datos$number <- as.numeric(datos$number)\n",
    "\n",
    "datos <- datos %>%\n",
    "  mutate(size_m2 = case_when(\n",
    "    word_1 %in% c('HAS', 'HA', 'HECTAREA', 'HECTAREAS') ~ number * 10000,\n",
    "    word_1 %in% c('M2', 'MS2','MTS', 'MTS2', 'METROS CUADRADOS') ~ number,\n",
    "    TRUE ~ NA_real_\n",
    "  ))\n",
    "\n",
    "datos$tamaño_2 <- str_extract(datos$direccion, pattern)\n",
    "datos$word_2 <- str_extract(datos$tamaño_2, \"M2|MTS|MS2|MTS2|HAS|HA|HECTAREA|HECTAREAS|METROS CUADRADOS\")\n",
    "datos$number_2 <- str_extract(datos$tamaño_2, \"\\\\d+[.,]?\\\\d*\")\n",
    "datos$number_2 <- gsub(\"\\\\.\", \"\", datos$number_2)\n",
    "datos$number_2  <- gsub(\",\", \".\", datos$number_2)\n",
    "datos$number_2 <- as.numeric(datos$number_2)\n",
    "\n",
    "\n",
    "datos <- datos %>%\n",
    "  mutate(size_m2_2 = case_when(\n",
    "    word_2 %in% c('HAS', 'HA', 'HECTAREA', 'HECTAREAS') ~ number_2 * 10000,\n",
    "    word_2 %in% c('M2', 'MS2', 'MTS', 'MTS2', 'METROS CUADRADOS') ~ number_2,\n",
    "    TRUE ~ NA_real_\n",
    "  ))\n",
    "\n",
    "datos$size_final_size <- ifelse(is.na(datos$size_m2), datos$size_m2_2,\n",
    "                             ifelse(is.na(datos$size_m2_2), datos$size_m2,\n",
    "                                    ifelse(datos$size_m2 == datos$size_m2_2, datos$size_m2, datos$size_m2)))\n",
    "\n",
    "\n",
    "\n",
    "datos$size_final_size <- ifelse(is.na(datos$size_final_size), datos$total_o_terreno, datos$size_final_size)\n",
    "datos$size_final_size <- as.numeric(datos$size_final_size)"
   ]
  },
  {
   "cell_type": "markdown",
   "id": "938aacac",
   "metadata": {},
   "source": [
    "*La base \"datos\" es la que quedó limpia*\n",
    "#################################################################################################################################\n",
    "#################################################################################################################################\n",
    "\n",
    "#Filtramos Olmué"
   ]
  },
  {
   "cell_type": "code",
   "execution_count": null,
   "id": "6b00bfc5",
   "metadata": {},
   "outputs": [],
   "source": [
    "%%R\n",
    "comunasO <- c('OLMUAC','OLMUE')\n",
    "\n",
    "df_olmue <- datos  %>%\n",
    "  filter(comuna == comunasO)"
   ]
  },
  {
   "cell_type": "markdown",
   "id": "78aa2be9",
   "metadata": {},
   "source": [
    "*Se trabajará con la base df_olmue*\n",
    "#Separar año"
   ]
  },
  {
   "cell_type": "code",
   "execution_count": null,
   "id": "f7c52a67",
   "metadata": {},
   "outputs": [],
   "source": [
    "%%R\n",
    "df_olmue <- df_olmue %>%\n",
    "  mutate(fecha = as.Date(.[[3]], format = \"%Y-%m-%d\")) %>%\n",
    "  mutate(año_publicacion = year(fecha))"
   ]
  },
  {
   "cell_type": "markdown",
   "id": "aef3fe46",
   "metadata": {},
   "source": [
    "#Tamaño final"
   ]
  },
  {
   "cell_type": "code",
   "execution_count": null,
   "id": "8fe7aad1",
   "metadata": {},
   "outputs": [],
   "source": [
    "%%R\n",
    "df_olmue$size_final_size[35] <- 12000\n",
    "df_olmue$size_final_size[145] <- 200000\n",
    "df_olmue$size_final_size[195] <- 3225\n",
    "df_olmue$size_final_size[241] <- 200000\n",
    "df_olmue$size_final_size[242] <- 3600"
   ]
  },
  {
   "cell_type": "markdown",
   "id": "c611480d",
   "metadata": {},
   "source": [
    "#Sacar valores 0"
   ]
  },
  {
   "cell_type": "code",
   "execution_count": null,
   "id": "82d9131e",
   "metadata": {},
   "outputs": [],
   "source": [
    "%%R\n",
    "df_olmue <- df_olmue %>%\n",
    "  filter( size_final_size!= 0)"
   ]
  },
  {
   "cell_type": "markdown",
   "id": "a95129b6",
   "metadata": {},
   "source": [
    "#Ajuste tamaño de terrenos <100"
   ]
  },
  {
   "cell_type": "code",
   "execution_count": null,
   "id": "0b2fc5a4",
   "metadata": {},
   "outputs": [],
   "source": [
    "%%R\n",
    "df_olmue$size_final_size[179] <- 4250\n",
    "df_olmue$size_final_size[44] <- 4375\n",
    "df_olmue$size_final_size[26] <- 20000\n",
    "df_olmue$size_final_size[48] <- 22705\n",
    "df_olmue$size_final_size[76] <- 28000\n",
    "df_olmue$size_final_size[35] <- 1200\n",
    "df_olmue$size_final_size[36] <- 1100\n",
    "df_olmue$size_final_size[114] <- 1100\n",
    "df_olmue$size_final_size[73] <- 62100\n",
    "df_olmue$size_final_size[93] <- 4840\n",
    "df_olmue$size_final_size[164] <- 1092\n",
    "df_olmue$size_final_size[150] <- 112000\n",
    "df_olmue$size_final_size[33] <- 30600\n",
    "df_olmue$size_final_size[20] <- 4927\n",
    "df_olmue$size_final_size[81] <- 4250\n",
    "df_olmue$size_final_size[111] <- 4840\n",
    "df_olmue$size_final_size[124] <- 4840\n",
    "df_olmue$size_final_size[134] <- 4840\n",
    "df_olmue$size_final_size[142] <- 4840\n",
    "df_olmue$size_final_size[144] <- 4840\n"
   ]
  },
  {
   "cell_type": "markdown",
   "id": "a77ea03f",
   "metadata": {},
   "source": [
    "#Filtrando outliers en metros cuadrados y precio UF"
   ]
  },
  {
   "cell_type": "code",
   "execution_count": null,
   "id": "2e9d7df6",
   "metadata": {},
   "outputs": [],
   "source": [
    "%%R\n",
    "df_olmue <- subset(df_olmue, size_final_size >= 100)\n",
    "df_olmue <- subset(df_olmue, size_final_size <= 25000)\n",
    "\n",
    "df_olmue <- subset(df_olmue, precio_uf >= 10)"
   ]
  },
  {
   "cell_type": "markdown",
   "id": "d5016121",
   "metadata": {},
   "source": [
    "#Crear columna que describe si los Terrenos son lotes o no"
   ]
  },
  {
   "cell_type": "code",
   "execution_count": null,
   "id": "2e8e5e53",
   "metadata": {},
   "outputs": [],
   "source": [
    "%%R\n",
    "df_olmue$contains_lot <- grepl(\"LOT\", df_olmue$descripcion, ignore.case = TRUE)"
   ]
  },
  {
   "cell_type": "markdown",
   "id": "30c542c1",
   "metadata": {},
   "source": [
    "#Se calculará las UF por m2"
   ]
  },
  {
   "cell_type": "code",
   "execution_count": null,
   "id": "5d004dcd",
   "metadata": {},
   "outputs": [],
   "source": [
    "%%R\n",
    "df_olmue$precio_uf <- as.numeric(df_olmue$precio_uf)\n",
    "\n",
    "df_olmue$uf_m2 <- df_olmue$precio_uf/df_olmue$size_final_size\n",
    "df_olmue$uf_m2 <- as.numeric(df_olmue$uf_m2)"
   ]
  },
  {
   "cell_type": "markdown",
   "id": "133f9599",
   "metadata": {},
   "source": [
    "#Terrenos publicados cada año"
   ]
  },
  {
   "cell_type": "code",
   "execution_count": null,
   "id": "ce85e6d1",
   "metadata": {},
   "outputs": [],
   "source": [
    "%%R\n",
    "df_agrupado <- df_olmue %>%\n",
    "  group_by(año_publicacion) %>%\n",
    "  summarise(numero_terrenos = n())\n",
    "  \n",
    "ggplot(data = df_agrupado, aes(x = año_publicacion, y = numero_terrenos)) +\n",
    "  geom_bar(stat = \"identity\") +\n",
    "  labs(title = \"Número de Terrenos por Año\",\n",
    "       x = \"Año\",\n",
    "       y = \"Número de Terrenos\") +\n",
    "  theme_minimal()"
   ]
  },
  {
   "cell_type": "markdown",
   "id": "d3695d08",
   "metadata": {},
   "source": [
    "#Grafico de dispersión"
   ]
  },
  {
   "cell_type": "code",
   "execution_count": null,
   "id": "c92e6604",
   "metadata": {},
   "outputs": [],
   "source": [
    "%%R\n",
    "library(scales)"
   ]
  },
  {
   "cell_type": "code",
   "execution_count": null,
   "id": "f2976a1f",
   "metadata": {},
   "outputs": [],
   "source": [
    "%%R\n",
    "ggplot(df_olmue, aes(x = size_final_size, y = precio_uf)) + \n",
    "  geom_point(alpha = 0.5, size = 2) +\n",
    "  labs(x = \"Metros cuadrados\", y = \"Valor UF\", title = \"Gráfico de dispersión m² por valor UF\") +\n",
    "  scale_x_continuous(breaks = pretty_breaks(n = 10)) +  # Ajusta el número de interrupciones según sea necesario\n",
    "  theme_minimal() +\n",
    "  theme(text = element_text(size = 12))"
   ]
  },
  {
   "cell_type": "markdown",
   "id": "62fbadb9",
   "metadata": {},
   "source": [
    "#Grafico de dispersión que diferencia si los terrenos son lotes, ya que hay publicaciones de terrenos grandes pero que en la descripción se especifica que estos están subdivididos en cierto numero de loteos."
   ]
  },
  {
   "cell_type": "code",
   "execution_count": null,
   "id": "3cf12898",
   "metadata": {},
   "outputs": [],
   "source": [
    "%%R\n",
    "ggplot(df_olmue, aes(x = size_final_size, y = precio_uf, color = contains_lot)) + \n",
    "  geom_point(alpha = 0.5, size = 2) +\n",
    "  labs(x = \"Metros cuadrados\", y = \"Valor UF\", title = \"Gráfico de dispersión m² por valor UF\") +\n",
    "  scale_x_continuous(breaks = pretty_breaks(n = 10)) +\n",
    "  scale_color_manual(values = c(\"TRUE\" = \"red\", \"FALSE\" = \"blue\")) +  # Ajusta los colores según tus preferencias\n",
    "  theme_minimal() +\n",
    "  theme(text = element_text(size = 12))"
   ]
  },
  {
   "cell_type": "markdown",
   "id": "b511db0c",
   "metadata": {},
   "source": [
    "#Para poder mapear las ubicaciones es necesario filtrar las propiedades que no tengan el valor de la latitud o longitud"
   ]
  },
  {
   "cell_type": "code",
   "execution_count": null,
   "id": "434479d9",
   "metadata": {},
   "outputs": [],
   "source": [
    "%%R\n",
    "df_olmue <- subset(df_olmue, longitude != 0 & latitude != 0)"
   ]
  },
  {
   "cell_type": "markdown",
   "id": "7c2eecae",
   "metadata": {},
   "source": [
    "################################################### Mapas ##############################################################################\n",
    "\n",
    "#Filtrar propiedades publicadas en 2020-2021"
   ]
  },
  {
   "cell_type": "code",
   "execution_count": null,
   "id": "0b30453f",
   "metadata": {},
   "outputs": [],
   "source": [
    "%%R\n",
    "df_olmue21 <- subset(df_olmue, año_publicacion %in% c(2020, 2021))"
   ]
  },
  {
   "cell_type": "markdown",
   "id": "2f3a1d0d",
   "metadata": {},
   "source": [
    "#Filtramos las propiedades que según sus coordenadas se encuentran fuera de Olmue"
   ]
  },
  {
   "cell_type": "code",
   "execution_count": null,
   "id": "0f2fdbd7",
   "metadata": {},
   "outputs": [],
   "source": [
    "%%R\n",
    "df_olmue21 <- df_olmue21[-c(3, 13), ]"
   ]
  },
  {
   "cell_type": "markdown",
   "id": "061262b9",
   "metadata": {},
   "source": [
    "#Propiedades publicadas 2020-2021\n",
    "#Se importa el archivo KML extraído de la pagina de la municipalidad de Olmué y se definen los puntos donde se ubican las propiedades a partir de su información de latitud y longitud"
   ]
  },
  {
   "cell_type": "code",
   "execution_count": null,
   "id": "c4ad2048",
   "metadata": {},
   "outputs": [],
   "source": [
    "%%R\n",
    "library(mapview)\n",
    "library(sf)\n",
    "kml_layer <- st_read(\"C:/Users/franc/OneDrive - Universidad de Chile/Escritorio/Lares/Patricio/TODAS LAS COMUNAS/doc.kml\")\n",
    "mapview(kml_layer)\n",
    "points <- st_as_sf(df_olmue21, coords = c(\"longitude\", \"latitude\"), crs = 4326)\n",
    "mapview(kml_layer) + mapview(points)\n",
    "\n",
    "#mapshot(map, file = \"mapa_olmue_20_21.html\")"
   ]
  },
  {
   "cell_type": "markdown",
   "id": "7dd8431d",
   "metadata": {},
   "source": [
    "########################################################################################################################################\n",
    "\n",
    "#Filtrar propiedades publicadas en 2022"
   ]
  },
  {
   "cell_type": "code",
   "execution_count": null,
   "id": "70916ee9",
   "metadata": {},
   "outputs": [],
   "source": [
    "%%R\n",
    "df_olmue22 <- subset(df_olmue, año_publicacion %in% c(2022))"
   ]
  },
  {
   "cell_type": "markdown",
   "id": "97af9ae2",
   "metadata": {},
   "source": [
    "#Filtramos las propiedades que según sus coordenadas se encuentran fuera de Olmue"
   ]
  },
  {
   "cell_type": "code",
   "execution_count": null,
   "id": "302738eb",
   "metadata": {},
   "outputs": [],
   "source": [
    "%%R\n",
    "df_olmue22 <- df_olmue22[-c(16, 29), ]"
   ]
  },
  {
   "cell_type": "markdown",
   "id": "33dc142c",
   "metadata": {},
   "source": [
    "#Mapa publicaciones 2022"
   ]
  },
  {
   "cell_type": "code",
   "execution_count": null,
   "id": "1d2a6ddf",
   "metadata": {},
   "outputs": [],
   "source": [
    "%%R\n",
    "library(mapview)\n",
    "library(sf)\n",
    "kml_layer <- st_read(\"C:/Users/franc/OneDrive - Universidad de Chile/Escritorio/Lares/Patricio/TODAS LAS COMUNAS/doc.kml\")\n",
    "mapview(kml_layer)\n",
    "points <- st_as_sf(df_olmue22, coords = c(\"longitude\", \"latitude\"), crs = 4326)\n",
    "mapview(kml_layer) + mapview(points)"
   ]
  },
  {
   "cell_type": "markdown",
   "id": "ed9fcbb1",
   "metadata": {},
   "source": [
    "########################################################################################################################################\n",
    "\n",
    "#Filtrar propiedades publicadas en 2023"
   ]
  },
  {
   "cell_type": "code",
   "execution_count": null,
   "id": "5248db3b",
   "metadata": {},
   "outputs": [],
   "source": [
    "%%R\n",
    "df_olmue23 <- subset(df_olmue, año_publicacion %in% c(2023))"
   ]
  },
  {
   "cell_type": "markdown",
   "id": "0081c514",
   "metadata": {},
   "source": [
    "#Mapa publicaciones 2023"
   ]
  },
  {
   "cell_type": "code",
   "execution_count": null,
   "id": "97e601cf",
   "metadata": {},
   "outputs": [],
   "source": [
    "%%R\n",
    "library(mapview)\n",
    "library(sf)\n",
    "kml_layer <- st_read(\"C:/Users/franc/OneDrive - Universidad de Chile/Escritorio/Lares/Patricio/TODAS LAS COMUNAS/doc.kml\")\n",
    "mapview(kml_layer)\n",
    "points <- st_as_sf(df_olmue23, coords = c(\"longitude\", \"latitude\"), crs = 4326)\n",
    "mapview(kml_layer) + mapview(points)"
   ]
  },
  {
   "cell_type": "markdown",
   "id": "c8a2a4dc",
   "metadata": {},
   "source": [
    "########################################################################################################################################\n",
    "\n",
    "#Filtrar propiedades publicadas en 2024"
   ]
  },
  {
   "cell_type": "code",
   "execution_count": null,
   "id": "4f92bb8c",
   "metadata": {},
   "outputs": [],
   "source": [
    "%%R\n",
    "df_olmue24 <- subset(df_olmue, año_publicacion %in% c(2024))"
   ]
  },
  {
   "cell_type": "markdown",
   "id": "f5bdbde6",
   "metadata": {},
   "source": [
    "#Mapa publicaciones 2024"
   ]
  },
  {
   "cell_type": "code",
   "execution_count": null,
   "id": "b4767b1b",
   "metadata": {},
   "outputs": [],
   "source": [
    "%%R\n",
    "library(mapview)\n",
    "library(sf)\n",
    "kml_layer <- st_read(\"C:/Users/franc/OneDrive - Universidad de Chile/Escritorio/Lares/Patricio/TODAS LAS COMUNAS/doc.kml\")\n",
    "mapview(kml_layer)\n",
    "points <- st_as_sf(df_olmue24, coords = c(\"longitude\", \"latitude\"), crs = 4326)\n",
    "mapview(kml_layer) + mapview(points)"
   ]
  },
  {
   "cell_type": "markdown",
   "id": "c3e7a11a",
   "metadata": {},
   "source": [
    "########################################################################################################################################\n",
    "\n",
    "#Filtrar propiedades publicadas en 2023-2024 que siguen en venta"
   ]
  },
  {
   "cell_type": "code",
   "execution_count": null,
   "id": "e58e3a01",
   "metadata": {},
   "outputs": [],
   "source": [
    "%%R\n",
    "df_olmue_act <- subset(df_olmue, año_publicacion %in% c(2023, 2024) & active == \"True\")"
   ]
  },
  {
   "cell_type": "markdown",
   "id": "ae5ab030",
   "metadata": {},
   "source": [
    "#Mapa publicaciones 2023-2024 que siguen activas y puntos rojos no corresponden a loteos"
   ]
  },
  {
   "cell_type": "code",
   "execution_count": null,
   "id": "c2ce93e1",
   "metadata": {},
   "outputs": [],
   "source": [
    "%%R\n",
    "library(sf)\n",
    "library(mapview)\n",
    "\n",
    "# Leer el archivo KML\n",
    "kml_layer <- st_read(\"C:/Users/franc/OneDrive - Universidad de Chile/Escritorio/Lares/Patricio/TODAS LAS COMUNAS/doc.kml\")\n",
    "\n",
    "# Convertir df_olmue24 en un objeto sf\n",
    "points <- st_as_sf(df_olmue_act, coords = c(\"longitude\", \"latitude\"), crs = 4326)\n",
    "\n",
    "# Visualizar el mapa con puntos coloreados por la columna contains_lot\n",
    "mapview(kml_layer, color = \"grey\") + \n",
    "  mapview(points, zcol = \"contains_lot\", \n",
    "          col.regions = c(\"red\", \"blue\"), \n",
    "          legend = TRUE)"
   ]
  }
 ],
 "metadata": {
  "kernelspec": {
   "name": "python3",
   "language": "python",
   "display_name": "Python 3 (ipykernel)"
  }
 },
 "nbformat": 4,
 "nbformat_minor": 5
}
