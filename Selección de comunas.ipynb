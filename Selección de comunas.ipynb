{
 "cells": [
  {
   "metadata": {},
   "cell_type": "markdown",
   "source": "# Selección de comunas y criterios de descarte",
   "id": "78e8dbbf839595a7"
  },
  {
   "metadata": {},
   "cell_type": "markdown",
   "source": "## Carga de datos",
   "id": "8530164797c0fe99"
  },
  {
   "cell_type": "code",
   "id": "initial_id",
   "metadata": {
    "collapsed": true,
    "ExecuteTime": {
     "end_time": "2024-11-11T19:22:34.949429Z",
     "start_time": "2024-11-11T19:22:34.917387Z"
    }
   },
   "source": [
    "import pandas as pd\n",
    "# Paso 1: Cargar los datos de estadísticas por comuna y rango de superficie\n",
    "data_estadisticos_pivot = pd.read_csv('data recuperada/estadisticos_por_comuna_y_rango_pivot.csv')\n",
    "data_estadisticos = pd.read_csv('data recuperada/estadisticos_por_comuna_y_rango.csv')"
   ],
   "outputs": [],
   "execution_count": 63
  },
  {
   "metadata": {
    "ExecuteTime": {
     "end_time": "2024-11-11T15:11:20.606424Z",
     "start_time": "2024-11-11T15:11:20.597939Z"
    }
   },
   "cell_type": "code",
   "source": "data_estadisticos_pivot.columns",
   "id": "967befe0a6491bd",
   "outputs": [
    {
     "data": {
      "text/plain": [
       "Index(['comuna_match', 'Total de Datos_2021S1', 'Total de Datos_2021S2',\n",
       "       'Total de Datos_2022S1', 'Total de Datos_2022S2',\n",
       "       'Total de Datos_2023S1', 'Total de Datos_2023S2',\n",
       "       'Total de Datos_2024S1', 'Total de Datos_2024S2',\n",
       "       'Total 100-499 m2_2021S1',\n",
       "       ...\n",
       "       'Mínimo costo_m2_uf >100000 m2_2024S1',\n",
       "       'Mínimo costo_m2_uf >100000 m2_2024S2',\n",
       "       'Máximo costo_m2_uf >100000 m2_2021S1',\n",
       "       'Máximo costo_m2_uf >100000 m2_2021S2',\n",
       "       'Máximo costo_m2_uf >100000 m2_2022S1',\n",
       "       'Máximo costo_m2_uf >100000 m2_2022S2',\n",
       "       'Máximo costo_m2_uf >100000 m2_2023S1',\n",
       "       'Máximo costo_m2_uf >100000 m2_2023S2',\n",
       "       'Máximo costo_m2_uf >100000 m2_2024S1',\n",
       "       'Máximo costo_m2_uf >100000 m2_2024S2'],\n",
       "      dtype='object', length=289)"
      ]
     },
     "execution_count": 5,
     "metadata": {},
     "output_type": "execute_result"
    }
   ],
   "execution_count": 5
  },
  {
   "metadata": {
    "ExecuteTime": {
     "end_time": "2024-11-11T15:14:16.189320Z",
     "start_time": "2024-11-11T15:14:16.183815Z"
    }
   },
   "cell_type": "code",
   "source": "data_estadisticos.columns",
   "id": "f1feb5225b90a94c",
   "outputs": [
    {
     "data": {
      "text/plain": [
       "Index(['comuna_match', 'Total de Datos', 'Total 100-499 m2', '% 100-499 m2',\n",
       "       'Total 500-4999 m2', '% 500-4999 m2', 'Total 5000-10000 m2',\n",
       "       '% 5000-10000 m2', 'Total 10001-100000 m2', '% 10001-100000 m2',\n",
       "       'Total >100000 m2', '% >100000 m2', 'Mediana costo_m2_uf 100-499 m2',\n",
       "       'Media costo_m2_uf 100-499 m2', 'Desviación costo_m2_uf 100-499 m2',\n",
       "       'Mínimo costo_m2_uf 100-499 m2', 'Máximo costo_m2_uf 100-499 m2',\n",
       "       'IQR costo_m2_uf 100-499 m2', 'Mediana costo_m2_uf 500-4999 m2',\n",
       "       'Media costo_m2_uf 500-4999 m2', 'Desviación costo_m2_uf 500-4999 m2',\n",
       "       'Mínimo costo_m2_uf 500-4999 m2', 'Máximo costo_m2_uf 500-4999 m2',\n",
       "       'IQR costo_m2_uf 500-4999 m2', 'Mediana costo_m2_uf 5000-10000 m2',\n",
       "       'Media costo_m2_uf 5000-10000 m2',\n",
       "       'Desviación costo_m2_uf 5000-10000 m2',\n",
       "       'Mínimo costo_m2_uf 5000-10000 m2', 'Máximo costo_m2_uf 5000-10000 m2',\n",
       "       'IQR costo_m2_uf 5000-10000 m2', 'Mediana costo_m2_uf 10001-100000 m2',\n",
       "       'Media costo_m2_uf 10001-100000 m2',\n",
       "       'Desviación costo_m2_uf 10001-100000 m2',\n",
       "       'Mínimo costo_m2_uf 10001-100000 m2',\n",
       "       'Máximo costo_m2_uf 10001-100000 m2', 'IQR costo_m2_uf 10001-100000 m2',\n",
       "       'Mediana costo_m2_uf >100000 m2', 'Media costo_m2_uf >100000 m2',\n",
       "       'Desviación costo_m2_uf >100000 m2', 'Mínimo costo_m2_uf >100000 m2',\n",
       "       'Máximo costo_m2_uf >100000 m2', 'IQR costo_m2_uf >100000 m2'],\n",
       "      dtype='object')"
      ]
     },
     "execution_count": 7,
     "metadata": {},
     "output_type": "execute_result"
    }
   ],
   "execution_count": 7
  },
  {
   "metadata": {
    "ExecuteTime": {
     "end_time": "2024-11-11T19:22:40.442579Z",
     "start_time": "2024-11-11T19:22:40.429252Z"
    }
   },
   "cell_type": "code",
   "source": [
    "import pandas as pd\n",
    "\n",
    "# Cargar las datas originales\n",
    "# data_estadisticos = pd.read_csv(\"ruta_a_data_estadisticos.csv\")\n",
    "# data_estadisticos_pivot = pd.read_csv(\"ruta_a_data_estadisticos_pivot.csv\")\n",
    "\n",
    "# Seleccionar las columnas que queremos agregar de data_estadisticos\n",
    "columnas_a_agregar = [\n",
    "    'comuna_match', 'Total de Datos', 'Total 100-499 m2', '% 100-499 m2',\n",
    "    'Total 500-4999 m2', '% 500-4999 m2', 'Total 5000-10000 m2', '% 5000-10000 m2',\n",
    "    'Total 10001-100000 m2', '% 10001-100000 m2', 'Total >100000 m2', '% >100000 m2',\n",
    "    'Mediana costo_m2_uf 100-499 m2', 'Mediana costo_m2_uf 500-4999 m2', \n",
    "    'Mediana costo_m2_uf 5000-10000 m2', 'Mediana costo_m2_uf 10001-100000 m2', \n",
    "    'Mediana costo_m2_uf >100000 m2'\n",
    "]\n",
    "\n",
    "# Realizar el merge, agregando las columnas seleccionadas de data_estadisticos a data_estadisticos_pivot\n",
    "data_estadisticos_pivot = data_estadisticos_pivot.merge(\n",
    "    data_estadisticos[columnas_a_agregar],\n",
    "    on='comuna_match',\n",
    "    how='left'\n",
    ")\n",
    "\n",
    "# Guardar el resultado final si es necesario\n",
    "# data_estadisticos_pivot.to_csv(\"ruta_a_data_estadisticos_pivot_actualizado.csv\", index=False)\n",
    "\n",
    "# Mostrar una muestra de los resultados\n",
    "print(data_estadisticos_pivot.head())\n"
   ],
   "id": "72bf3f04abd94b44",
   "outputs": [
    {
     "name": "stdout",
     "output_type": "stream",
     "text": [
      "      comuna_match  Total de Datos_2021S1  Total de Datos_2021S2  \\\n",
      "0        ALGARROBO                  142.0                  149.0   \n",
      "1            ALHUE                    3.0                    2.0   \n",
      "2      ALTO BIOBIO                    3.0                    3.0   \n",
      "3  ALTO DEL CARMEN                    1.0                    0.0   \n",
      "4    ALTO HOSPICIO                   26.0                   41.0   \n",
      "\n",
      "   Total de Datos_2022S1  Total de Datos_2022S2  Total de Datos_2023S1  \\\n",
      "0                  167.0                  233.0                  244.0   \n",
      "1                    6.0                    9.0                    2.0   \n",
      "2                    3.0                    2.0                    0.0   \n",
      "3                    1.0                    6.0                    4.0   \n",
      "4                   23.0                   49.0                   41.0   \n",
      "\n",
      "   Total de Datos_2023S2  Total de Datos_2024S1  Total de Datos_2024S2  \\\n",
      "0                  248.0                  335.0                   84.0   \n",
      "1                    6.0                    3.0                    1.0   \n",
      "2                    0.0                    0.0                    0.0   \n",
      "3                    7.0                    2.0                    1.0   \n",
      "4                   37.0                   30.0                    2.0   \n",
      "\n",
      "   Total 100-499 m2_2021S1  ...  % 5000-10000 m2  Total 10001-100000 m2  \\\n",
      "0                     31.0  ...        47.066167                  271.0   \n",
      "1                      0.0  ...        31.250000                   13.0   \n",
      "2                      0.0  ...        45.454545                    2.0   \n",
      "3                      0.0  ...        36.363636                    5.0   \n",
      "4                      4.0  ...        44.176707                   41.0   \n",
      "\n",
      "   % 10001-100000 m2  Total >100000 m2  % >100000 m2  \\\n",
      "0          16.916355              39.0      2.434457   \n",
      "1          40.625000               4.0     12.500000   \n",
      "2          18.181818               0.0      0.000000   \n",
      "3          22.727273               2.0      9.090909   \n",
      "4          16.465863               3.0      1.204819   \n",
      "\n",
      "   Mediana costo_m2_uf 100-499 m2  Mediana costo_m2_uf 500-4999 m2  \\\n",
      "0                        5.843425                         1.735000   \n",
      "1                       12.692308                         1.372525   \n",
      "2                       33.333935                         0.807148   \n",
      "3                       29.604146                        16.049927   \n",
      "4                       10.868197                         4.444444   \n",
      "\n",
      "   Mediana costo_m2_uf 5000-10000 m2  Mediana costo_m2_uf 10001-100000 m2  \\\n",
      "0                           0.505455                             0.115128   \n",
      "1                           0.369575                             0.175140   \n",
      "2                           0.082157                            39.920824   \n",
      "3                           0.361482                             0.065122   \n",
      "4                           2.996478                             1.500000   \n",
      "\n",
      "   Mediana costo_m2_uf >100000 m2  \n",
      "0                        0.063945  \n",
      "1                        0.109227  \n",
      "2                        0.000000  \n",
      "3                        0.068179  \n",
      "4                        0.599976  \n",
      "\n",
      "[5 rows x 305 columns]\n"
     ]
    }
   ],
   "execution_count": 64
  },
  {
   "metadata": {},
   "cell_type": "markdown",
   "source": "## Filtro de oferta menor a 200 en 2023 y 2024",
   "id": "822432e161b2625f"
  },
  {
   "metadata": {
    "ExecuteTime": {
     "end_time": "2024-11-11T19:22:50.577913Z",
     "start_time": "2024-11-11T19:22:50.555734Z"
    }
   },
   "cell_type": "code",
   "source": [
    "# Calcular la suma de los totales de datos para el 2023S1, 2023S2 y 2024S1\n",
    "data_estadisticos_pivot['Suma_Datos_2023_2024S1'] = (\n",
    "    data_estadisticos_pivot['Total de Datos_2023S1'] +\n",
    "    data_estadisticos_pivot['Total de Datos_2023S2'] +\n",
    "    data_estadisticos_pivot['Total de Datos_2024S1']\n",
    ")\n",
    "\n",
    "# Filtrar comunas según la condición de que la suma sea mayor a 100\n",
    "data_principal = data_estadisticos_pivot[data_estadisticos_pivot['Suma_Datos_2023_2024S1'] >= 200].copy()\n",
    "data_excluida = data_estadisticos_pivot[data_estadisticos_pivot['Suma_Datos_2023_2024S1'] < 200].copy()\n",
    "\n",
    "# Eliminar la columna de suma temporal de ambas dataframes si no es necesaria\n",
    "#data_principal.drop(columns=['Suma_Datos_2023_2024S1'], inplace=True)\n",
    "#data_excluida.drop(columns=['Suma_Datos_2023_2024S1'], inplace=True)\n",
    "\n",
    "# Guardar las dataframes en archivos CSV\n",
    "#data_principal.to_csv('data_principal.csv', index=False)\n",
    "#data_excluida.to_csv('data_excluida.csv', index=False)\n",
    "\n",
    "# Mostrar una muestra de los resultados\n",
    "print(\"Data Principal (oferta > 100 en 2023S1 + 2023S2 + 2024S1):\")\n",
    "print(data_principal.head())\n",
    "\n",
    "print(\"\\nData Excluida (oferta <= 100 en 2023S1 + 2023S2 + 2024S1):\")\n",
    "print(data_excluida.head())\n",
    "\n",
    "# Mostrar el número de comunas en cada conjunto\n",
    "print(f\"\\nNúmero de comunas en data_principal (oferta >= 200): {data_principal.shape[0]}\")\n",
    "print(f\"Número de comunas en data_excluida (oferta < 200): {data_excluida.shape[0]}\")\n"
   ],
   "id": "86c97841fe0a0625",
   "outputs": [
    {
     "name": "stdout",
     "output_type": "stream",
     "text": [
      "Data Principal (oferta > 100 en 2023S1 + 2023S2 + 2024S1):\n",
      "   comuna_match  Total de Datos_2021S1  Total de Datos_2021S2  \\\n",
      "0     ALGARROBO                  142.0                  149.0   \n",
      "5         ANCUD                  182.0                  222.0   \n",
      "9   ANTOFAGASTA                   81.0                   83.0   \n",
      "13        AYSEN                   97.0                   85.0   \n",
      "14         BUIN                  109.0                  111.0   \n",
      "\n",
      "    Total de Datos_2022S1  Total de Datos_2022S2  Total de Datos_2023S1  \\\n",
      "0                   167.0                  233.0                  244.0   \n",
      "5                   181.0                  306.0                  199.0   \n",
      "9                    79.0                  119.0                  110.0   \n",
      "13                   80.0                  164.0                   99.0   \n",
      "14                  110.0                  122.0                  142.0   \n",
      "\n",
      "    Total de Datos_2023S2  Total de Datos_2024S1  Total de Datos_2024S2  \\\n",
      "0                   248.0                  335.0                   84.0   \n",
      "5                   172.0                  225.0                   42.0   \n",
      "9                   145.0                  144.0                   27.0   \n",
      "13                  108.0                  133.0                   42.0   \n",
      "14                  136.0                  157.0                   31.0   \n",
      "\n",
      "    Total 100-499 m2_2021S1  ...  Total 10001-100000 m2  % 10001-100000 m2  \\\n",
      "0                      31.0  ...                  271.0          16.916355   \n",
      "5                      10.0  ...                  340.0          22.236756   \n",
      "9                      30.0  ...                   83.0          10.532995   \n",
      "13                     15.0  ...                  256.0          31.683168   \n",
      "14                     10.0  ...                  169.0          18.409586   \n",
      "\n",
      "    Total >100000 m2  % >100000 m2  Mediana costo_m2_uf 100-499 m2  \\\n",
      "0               39.0      2.434457                        5.843425   \n",
      "5              120.0      7.848267                        7.466166   \n",
      "9                5.0      0.634518                       20.761923   \n",
      "13              65.0      8.044554                        4.364373   \n",
      "14              39.0      4.248366                       19.177782   \n",
      "\n",
      "    Mediana costo_m2_uf 500-4999 m2  Mediana costo_m2_uf 5000-10000 m2  \\\n",
      "0                          1.735000                           0.505455   \n",
      "5                          2.293664                           0.112200   \n",
      "9                         15.933244                           3.816667   \n",
      "13                         2.338637                           0.146773   \n",
      "14                         4.956427                           1.300000   \n",
      "\n",
      "    Mediana costo_m2_uf 10001-100000 m2  Mediana costo_m2_uf >100000 m2  \\\n",
      "0                              0.115128                        0.063945   \n",
      "5                              0.071068                        0.033870   \n",
      "9                              0.575505                        0.044348   \n",
      "13                             0.027631                        0.009666   \n",
      "14                             1.500000                        0.199522   \n",
      "\n",
      "    Suma_Datos_2023_2024S1  \n",
      "0                    827.0  \n",
      "5                    596.0  \n",
      "9                    399.0  \n",
      "13                   340.0  \n",
      "14                   435.0  \n",
      "\n",
      "[5 rows x 306 columns]\n",
      "\n",
      "Data Excluida (oferta <= 100 en 2023S1 + 2023S2 + 2024S1):\n",
      "      comuna_match  Total de Datos_2021S1  Total de Datos_2021S2  \\\n",
      "1            ALHUE                    3.0                    2.0   \n",
      "2      ALTO BIOBIO                    3.0                    3.0   \n",
      "3  ALTO DEL CARMEN                    1.0                    0.0   \n",
      "4    ALTO HOSPICIO                   26.0                   41.0   \n",
      "6        ANDACOLLO                   11.0                   12.0   \n",
      "\n",
      "   Total de Datos_2022S1  Total de Datos_2022S2  Total de Datos_2023S1  \\\n",
      "1                    6.0                    9.0                    2.0   \n",
      "2                    3.0                    2.0                    0.0   \n",
      "3                    1.0                    6.0                    4.0   \n",
      "4                   23.0                   49.0                   41.0   \n",
      "6                   12.0                   20.0                    9.0   \n",
      "\n",
      "   Total de Datos_2023S2  Total de Datos_2024S1  Total de Datos_2024S2  \\\n",
      "1                    6.0                    3.0                    1.0   \n",
      "2                    0.0                    0.0                    0.0   \n",
      "3                    7.0                    2.0                    1.0   \n",
      "4                   37.0                   30.0                    2.0   \n",
      "6                    9.0                   10.0                    3.0   \n",
      "\n",
      "   Total 100-499 m2_2021S1  ...  Total 10001-100000 m2  % 10001-100000 m2  \\\n",
      "1                      0.0  ...                   13.0          40.625000   \n",
      "2                      0.0  ...                    2.0          18.181818   \n",
      "3                      0.0  ...                    5.0          22.727273   \n",
      "4                      4.0  ...                   41.0          16.465863   \n",
      "6                      0.0  ...                   12.0          13.953488   \n",
      "\n",
      "   Total >100000 m2  % >100000 m2  Mediana costo_m2_uf 100-499 m2  \\\n",
      "1               4.0     12.500000                       12.692308   \n",
      "2               0.0      0.000000                       33.333935   \n",
      "3               2.0      9.090909                       29.604146   \n",
      "4               3.0      1.204819                       10.868197   \n",
      "6               3.0      3.488372                        1.040417   \n",
      "\n",
      "   Mediana costo_m2_uf 500-4999 m2  Mediana costo_m2_uf 5000-10000 m2  \\\n",
      "1                         1.372525                           0.369575   \n",
      "2                         0.807148                           0.082157   \n",
      "3                        16.049927                           0.361482   \n",
      "4                         4.444444                           2.996478   \n",
      "6                         0.479587                           0.144697   \n",
      "\n",
      "   Mediana costo_m2_uf 10001-100000 m2  Mediana costo_m2_uf >100000 m2  \\\n",
      "1                             0.175140                        0.109227   \n",
      "2                            39.920824                        0.000000   \n",
      "3                             0.065122                        0.068179   \n",
      "4                             1.500000                        0.599976   \n",
      "6                             0.080323                        0.015152   \n",
      "\n",
      "   Suma_Datos_2023_2024S1  \n",
      "1                    11.0  \n",
      "2                     0.0  \n",
      "3                    13.0  \n",
      "4                   108.0  \n",
      "6                    28.0  \n",
      "\n",
      "[5 rows x 306 columns]\n",
      "\n",
      "Número de comunas en data_principal (oferta >= 200): 128\n",
      "Número de comunas en data_excluida (oferta < 200): 213\n"
     ]
    }
   ],
   "execution_count": 65
  },
  {
   "metadata": {
    "ExecuteTime": {
     "end_time": "2024-11-11T19:23:02.625195Z",
     "start_time": "2024-11-11T19:23:02.616204Z"
    }
   },
   "cell_type": "code",
   "source": [
    "# Definir el umbral de porcentaje de oferta deseado\n",
    "umbral_porcentaje = 65\n",
    "\n",
    "# Calcular el total de oferta en el rango 5000-10000 m2 para el periodo 2023S1, 2023S2, y 2024S1 en data_principal\n",
    "data_principal['Oferta_5000_10000_2023_2024S1'] = (\n",
    "    data_principal['Total 5000-10000 m2_2023S1'] +\n",
    "    data_principal['Total 5000-10000 m2_2023S2'] +\n",
    "    data_principal['Total 5000-10000 m2_2024S1']\n",
    ")\n",
    "\n",
    "# Calcular el porcentaje de la oferta en el rango 5000-10000 m2 sobre el total de oferta en 2023S1, 2023S2, y 2024S1\n",
    "data_principal['% Oferta 5000-10000 m2 2023_2024S1'] = (\n",
    "    data_principal['Oferta_5000_10000_2023_2024S1'] / data_principal['Suma_Datos_2023_2024S1'] * 100\n",
    ")\n",
    "\n",
    "# Crear la columna binaria para indicar si cumple con el umbral de oferta en el rango 5000-10000 m2\n",
    "data_principal['Cumple_65%_5000_10000'] = (data_principal['% Oferta 5000-10000 m2 2023_2024S1'] >= umbral_porcentaje).astype(int)\n",
    "\n",
    "# Imprimir el número de comunas que cumplen o no cumplen con el criterio\n",
    "num_cumple = data_principal['Cumple_65%_5000_10000'].sum()\n",
    "num_no_cumple = data_principal.shape[0] - num_cumple\n",
    "\n",
    "print(f\"Número de comunas que cumplen con el {umbral_porcentaje}% de oferta en el rango 5000-10000 m2: {num_cumple}\")\n",
    "print(f\"Número de comunas que no cumplen con el {umbral_porcentaje}% de oferta en el rango 5000-10000 m2: {num_no_cumple}\")\n",
    "\n",
    "# Mostrar una muestra de los resultados\n",
    "print(data_principal[['comuna_match', '% Oferta 5000-10000 m2 2023_2024S1', 'Cumple_65%_5000_10000']].head())\n"
   ],
   "id": "cc60d8d3f6295f3b",
   "outputs": [
    {
     "name": "stdout",
     "output_type": "stream",
     "text": [
      "Número de comunas que cumplen con el 65% de oferta en el rango 5000-10000 m2: 28\n",
      "Número de comunas que no cumplen con el 65% de oferta en el rango 5000-10000 m2: 100\n",
      "   comuna_match  % Oferta 5000-10000 m2 2023_2024S1  Cumple_65%_5000_10000\n",
      "0     ALGARROBO                           48.609432                      0\n",
      "5         ANCUD                           66.442953                      1\n",
      "9   ANTOFAGASTA                           16.541353                      0\n",
      "13        AYSEN                           41.764706                      0\n",
      "14         BUIN                           40.229885                      0\n"
     ]
    }
   ],
   "execution_count": 66
  },
  {
   "metadata": {
    "ExecuteTime": {
     "end_time": "2024-11-11T19:23:07.288449Z",
     "start_time": "2024-11-11T19:23:07.102206Z"
    }
   },
   "cell_type": "code",
   "source": [
    "import matplotlib.pyplot as plt\n",
    "\n",
    "# Calcular el total de oferta en el rango 500-4999 m² para el periodo 2023S1, 2023S2 y 2024S1\n",
    "data_estadisticos_pivot['Oferta_500_4999_2023_2024S1'] = (\n",
    "    data_estadisticos_pivot['Total 500-4999 m2_2023S1'] +\n",
    "    data_estadisticos_pivot['Total 500-4999 m2_2023S2'] +\n",
    "    data_estadisticos_pivot['Total 500-4999 m2_2024S1']\n",
    ")\n",
    "\n",
    "# Calcular el porcentaje de oferta en el rango 500-4999 m² sobre el total de oferta en 2023S1, 2023S2 y 2024S1\n",
    "data_estadisticos_pivot['% Oferta 500-4999 m2 2023_2024S1'] = (\n",
    "    data_estadisticos_pivot['Oferta_500_4999_2023_2024S1'] / data_estadisticos_pivot['Suma_Datos_2023_2024S1'] * 100\n",
    ")\n",
    "\n",
    "# Graficar la distribución del porcentaje de oferta en el rango 500-4999 m²\n",
    "plt.figure(figsize=(10, 6))\n",
    "plt.hist(data_estadisticos_pivot['% Oferta 500-4999 m2 2023_2024S1'].dropna(), bins=20, edgecolor='k', color='skyblue')\n",
    "plt.title('Distribución del % de Oferta en el Rango 500-4999 m² (2023S1 - 2024S1)')\n",
    "plt.xlabel('% Oferta 500-4999 m²')\n",
    "plt.ylabel('Frecuencia')\n",
    "plt.grid(axis='y', linestyle='--', alpha=0.7)\n",
    "plt.tight_layout()\n",
    "plt.show()\n"
   ],
   "id": "c9d35cbe25db7023",
   "outputs": [
    {
     "data": {
      "text/plain": [
       "<Figure size 1000x600 with 1 Axes>"
      ],
      "image/png": "[encoded data removed]"
     },
     "metadata": {},
     "output_type": "display_data"
    }
   ],
   "execution_count": 67
  },
  {
   "metadata": {
    "ExecuteTime": {
     "end_time": "2024-11-11T19:23:10.858559Z",
     "start_time": "2024-11-11T19:23:10.665255Z"
    }
   },
   "cell_type": "code",
   "source": [
    "# Calcular el total de oferta en el rango 5000-10000 m² para el periodo 2023S1, 2023S2 y 2024S1\n",
    "data_estadisticos_pivot['Oferta_5000_10000_2023_2024S1'] = (\n",
    "    data_estadisticos_pivot['Total 5000-10000 m2_2023S1'] +\n",
    "    data_estadisticos_pivot['Total 5000-10000 m2_2023S2'] +\n",
    "    data_estadisticos_pivot['Total 5000-10000 m2_2024S1']\n",
    ")\n",
    "\n",
    "# Calcular el porcentaje de oferta en el rango 5000-10000 m² sobre el total de oferta en 2023S1, 2023S2 y 2024S1\n",
    "data_estadisticos_pivot['% Oferta 5000-10000 m2 2023_2024S1'] = (\n",
    "    data_estadisticos_pivot['Oferta_5000_10000_2023_2024S1'] / data_estadisticos_pivot['Suma_Datos_2023_2024S1'] * 100\n",
    ")\n",
    "\n",
    "# Graficar la distribución del porcentaje de oferta en el rango 5000-10000 m²\n",
    "plt.figure(figsize=(10, 6))\n",
    "plt.hist(data_estadisticos_pivot['% Oferta 5000-10000 m2 2023_2024S1'].dropna(), bins=20, edgecolor='k', color='salmon')\n",
    "plt.title('Distribución del % de Oferta en el Rango 5000-10000 m² (2023S1 - 2024S1)')\n",
    "plt.xlabel('% Oferta 5000-10000 m²')\n",
    "plt.ylabel('Frecuencia')\n",
    "plt.grid(axis='y', linestyle='--', alpha=0.7)\n",
    "plt.tight_layout()\n",
    "plt.show()\n"
   ],
   "id": "13f10466716cd131",
   "outputs": [
    {
     "data": {
      "text/plain": [
       "<Figure size 1000x600 with 1 Axes>"
      ],
      "image/png": "[encoded data removed]"
     },
     "metadata": {},
     "output_type": "display_data"
    }
   ],
   "execution_count": 68
  },
  {
   "metadata": {
    "ExecuteTime": {
     "end_time": "2024-11-11T19:23:14.039643Z",
     "start_time": "2024-11-11T19:23:13.839938Z"
    }
   },
   "cell_type": "code",
   "source": [
    "\n",
    "# Calcular el total de oferta en el rango 5000-10000 m² para el periodo 2023S1, 2023S2 y 2024S1\n",
    "data_estadisticos_pivot['Oferta_10001_100000_2023_2024S1'] = (\n",
    "        data_estadisticos_pivot['Total 10001-100000 m2_2023S1'] +\n",
    "        data_estadisticos_pivot['Total 10001-100000 m2_2023S2'] +\n",
    "        data_estadisticos_pivot['Total 10001-100000 m2_2024S1']\n",
    ")\n",
    "\n",
    "# Calcular el porcentaje de oferta en el rango 5000-10000 m² sobre el total de oferta en 2023S1, 2023S2 y 2024S1\n",
    "data_estadisticos_pivot['% Oferta 10001-100000 m2 2023_2024S1'] = (\n",
    "        data_estadisticos_pivot['Oferta_10001_100000_2023_2024S1'] / data_estadisticos_pivot[\n",
    "    'Suma_Datos_2023_2024S1'] * 100\n",
    ")\n",
    "\n",
    "# Graficar la distribución del porcentaje de oferta en el rango 5000-10000 m²\n",
    "plt.figure(figsize=(10, 6))\n",
    "plt.hist(data_estadisticos_pivot['% Oferta 10001-100000 m2 2023_2024S1'].dropna(), bins=20, edgecolor='k', color='green')\n",
    "plt.title('Distribución del % de Oferta en el Rango 10001-100000 m² (2023S1 - 2024S1)')\n",
    "plt.xlabel('% Oferta 10001-100000 m²')\n",
    "plt.ylabel('Frecuencia')\n",
    "plt.grid(axis='y', linestyle='--', alpha=0.7)\n",
    "plt.tight_layout()\n",
    "plt.show()"
   ],
   "id": "37f57556a9d0a96b",
   "outputs": [
    {
     "data": {
      "text/plain": [
       "<Figure size 1000x600 with 1 Axes>"
      ],
      "image/png": "[encoded data removed]"
     },
     "metadata": {},
     "output_type": "display_data"
    }
   ],
   "execution_count": 69
  },
  {
   "metadata": {
    "ExecuteTime": {
     "end_time": "2024-11-11T19:23:18.583479Z",
     "start_time": "2024-11-11T19:23:18.383345Z"
    }
   },
   "cell_type": "code",
   "source": [
    "\n",
    "# Calcular el total de oferta en el rango 5000-10000 m² para el periodo 2023S1, 2023S2 y 2024S1\n",
    "data_principal['Oferta_10001_100000_2023_2024S1'] = (\n",
    "        data_principal['Total 10001-100000 m2_2023S1'] +\n",
    "        data_principal['Total 10001-100000 m2_2023S2'] +\n",
    "        data_principal['Total 10001-100000 m2_2024S1']\n",
    ")\n",
    "\n",
    "# Calcular el porcentaje de oferta en el rango 5000-10000 m² sobre el total de oferta en 2023S1, 2023S2 y 2024S1\n",
    "data_principal['% Oferta 10001-100000 m2 2023_2024S1'] = (\n",
    "        data_principal['Oferta_10001_100000_2023_2024S1'] / data_principal[\n",
    "    'Suma_Datos_2023_2024S1'] * 100\n",
    ")\n",
    "\n",
    "# Graficar la distribución del porcentaje de oferta en el rango 5000-10000 m²\n",
    "plt.figure(figsize=(10, 6))\n",
    "plt.hist(data_principal['% Oferta 10001-100000 m2 2023_2024S1'].dropna(), bins=20, edgecolor='k', color='green')\n",
    "plt.title('Distribución del % de Oferta en el Rango 10001-100000 m² (2023S1 - 2024S1)')\n",
    "plt.xlabel('% Oferta 10001-100000 m²')\n",
    "plt.ylabel('Frecuencia')\n",
    "plt.grid(axis='y', linestyle='--', alpha=0.7)\n",
    "plt.tight_layout()\n",
    "plt.show()"
   ],
   "id": "8bc7bbcfb4d203a6",
   "outputs": [
    {
     "data": {
      "text/plain": [
       "<Figure size 1000x600 with 1 Axes>"
      ],
      "image/png": "[encoded data removed]"
     },
     "metadata": {},
     "output_type": "display_data"
    }
   ],
   "execution_count": 70
  },
  {
   "metadata": {
    "ExecuteTime": {
     "end_time": "2024-11-11T19:23:36.769624Z",
     "start_time": "2024-11-11T19:23:36.759550Z"
    }
   },
   "cell_type": "code",
   "source": [
    "\n",
    "# Definir el umbral de porcentaje de oferta deseado\n",
    "umbral_porcentaje = 5\n",
    "\n",
    "# Calcular el total de oferta en el rango 5000-10000 m2 para el periodo 2023S1, 2023S2, y 2024S1 en data_principal\n",
    "data_principal['Oferta_10001_100000_2023_2024S1'] = (\n",
    "        data_principal['Total 10001-100000 m2_2023S1'] +\n",
    "        data_principal['Total 10001-100000 m2_2023S2'] +\n",
    "        data_principal['Total 10001-100000 m2_2024S1']\n",
    ")\n",
    "\n",
    "# Calcular el porcentaje de la oferta en el rango 5000-10000 m2 sobre el total de oferta en 2023S1, 2023S2, y 2024S1\n",
    "data_principal['% Oferta 10001-100000 m2 2023_2024S1'] = (\n",
    "        data_principal['Oferta_10001_100000_2023_2024S1'] / data_principal['Suma_Datos_2023_2024S1'] * 100\n",
    ")\n",
    "\n",
    "# Crear la columna binaria para indicar si cumple con el umbral de oferta en el rango 5000-10000 m2\n",
    "data_principal['Cumple_5%_10001_100000'] = (\n",
    "            data_principal['% Oferta 10001-100000 m2 2023_2024S1'] >= umbral_porcentaje).astype(int)\n",
    "\n",
    "# Imprimir el número de comunas que cumplen o no cumplen con el criterio\n",
    "num_cumple = data_principal['Cumple_5%_10001_100000'].sum()\n",
    "num_no_cumple = data_principal.shape[0] - num_cumple\n",
    "\n",
    "print(f\"Número de comunas que cumplen con el {umbral_porcentaje}% de oferta en el rango 10001-100000 m2: {num_cumple}\")\n",
    "print(\n",
    "    f\"Número de comunas que no cumplen con el {umbral_porcentaje}% de oferta en el rango 10001-100000 m2: {num_no_cumple}\")\n",
    "\n",
    "# Mostrar una muestra de los resultados\n",
    "print(data_principal[['comuna_match', '% Oferta 10001-100000 m2 2023_2024S1', 'Cumple_5%_10001_100000']].head())"
   ],
   "id": "94fbfa381aa43c57",
   "outputs": [
    {
     "name": "stdout",
     "output_type": "stream",
     "text": [
      "Número de comunas que cumplen con el 5% de oferta en el rango 10001-100000 m2: 111\n",
      "Número de comunas que no cumplen con el 5% de oferta en el rango 10001-100000 m2: 17\n",
      "   comuna_match  % Oferta 10001-100000 m2 2023_2024S1  Cumple_5%_10001_100000\n",
      "0     ALGARROBO                             17.775091                       1\n",
      "5         ANCUD                             20.637584                       1\n",
      "9   ANTOFAGASTA                             10.776942                       1\n",
      "13        AYSEN                             32.058824                       1\n",
      "14         BUIN                             19.310345                       1\n"
     ]
    }
   ],
   "execution_count": 71
  },
  {
   "metadata": {
    "ExecuteTime": {
     "end_time": "2024-11-11T19:23:50.754102Z",
     "start_time": "2024-11-11T19:23:50.745895Z"
    }
   },
   "cell_type": "code",
   "source": [
    "# Filtrar las comunas que cumplen con ambas condiciones\n",
    "comunas_cumplen_ambas = data_principal[\n",
    "    (data_principal['% Oferta 10001-100000 m2 2023_2024S1'] > 5) &\n",
    "    (data_principal['% Oferta 5000-10000 m2 2023_2024S1'] < 65)\n",
    "]\n",
    "\n",
    "# Contar el número de comunas que cumplen ambas condiciones\n",
    "num_comunas_cumplen_ambas = comunas_cumplen_ambas.shape[0]\n",
    "\n",
    "print(f\"Número de comunas que tienen > 5% de oferta en el rango 10001-100000 m2 y < 65% en el rango 5000-10000 m2: {num_comunas_cumplen_ambas}\")\n",
    "\n",
    "# Mostrar una muestra de las comunas que cumplen ambas condiciones\n",
    "print(comunas_cumplen_ambas[['comuna_match', '% Oferta 10001-100000 m2 2023_2024S1', '% Oferta 5000-10000 m2 2023_2024S1']].head())\n"
   ],
   "id": "909d965670228e9e",
   "outputs": [
    {
     "name": "stdout",
     "output_type": "stream",
     "text": [
      "Número de comunas que tienen > 5% de oferta en el rango 10001-100000 m2 y < 65% en el rango 5000-10000 m2: 87\n",
      "   comuna_match  % Oferta 10001-100000 m2 2023_2024S1  \\\n",
      "0     ALGARROBO                             17.775091   \n",
      "9   ANTOFAGASTA                             10.776942   \n",
      "13        AYSEN                             32.058824   \n",
      "14         BUIN                             19.310345   \n",
      "20      CALBUCO                             30.844156   \n",
      "\n",
      "    % Oferta 5000-10000 m2 2023_2024S1  \n",
      "0                            48.609432  \n",
      "9                            16.541353  \n",
      "13                           41.764706  \n",
      "14                           40.229885  \n",
      "20                           56.168831  \n"
     ]
    }
   ],
   "execution_count": 72
  },
  {
   "metadata": {
    "ExecuteTime": {
     "end_time": "2024-11-11T19:23:56.821862Z",
     "start_time": "2024-11-11T19:23:56.794073Z"
    }
   },
   "cell_type": "code",
   "source": "comunas_cumplen_ambas.to_csv(\"data recuperada/sample.csv\", index=False)",
   "id": "52284cb972822fa8",
   "outputs": [],
   "execution_count": 73
  },
  {
   "metadata": {
    "ExecuteTime": {
     "end_time": "2024-11-11T19:48:50.777376Z",
     "start_time": "2024-11-11T19:48:50.769467Z"
    }
   },
   "cell_type": "code",
   "source": [
    "# Filtrar los datos de la comuna de QUINTERO\n",
    "quintero_data = data_principal[data_principal['comuna_match'] == 'QUINTERO']\n",
    "\n",
    "# Mostrar los valores específicos para QUINTERO en los rangos de interés\n",
    "print(\"Datos de oferta para la comuna de QUINTERO:\")\n",
    "print(quintero_data[['comuna_match', '% Oferta 10001-100000 m2 2023_2024S1', '% Oferta 5000-10000 m2 2023_2024S1']])\n",
    "\n",
    "# Verificar si cumple o no cumple con cada condición\n",
    "cumple_10001_100000 = quintero_data['% Oferta 10001-100000 m2 2023_2024S1'].iloc[0] > 5\n",
    "cumple_5000_10000 = quintero_data['% Oferta 5000-10000 m2 2023_2024S1'].iloc[0] < 65\n",
    "\n",
    "print(\"\\nCumple con el >5% en el rango 10001-100000 m²:\", cumple_10001_100000)\n",
    "print(\"Cumple con el <65% en el rango 5000-10000 m²:\", cumple_5000_10000)\n"
   ],
   "id": "286f8c4a6c3e90dc",
   "outputs": [
    {
     "name": "stdout",
     "output_type": "stream",
     "text": [
      "Datos de oferta para la comuna de QUINTERO:\n",
      "    comuna_match  % Oferta 10001-100000 m2 2023_2024S1  \\\n",
      "257     QUINTERO                              4.204753   \n",
      "\n",
      "     % Oferta 5000-10000 m2 2023_2024S1  \n",
      "257                           15.539305  \n",
      "\n",
      "Cumple con el >5% en el rango 10001-100000 m²: False\n",
      "Cumple con el <65% en el rango 5000-10000 m²: True\n"
     ]
    }
   ],
   "execution_count": 87
  },
  {
   "metadata": {},
   "cell_type": "markdown",
   "source": "### Lectura data cluster",
   "id": "1c02e25e2e0a6cca"
  },
  {
   "metadata": {
    "ExecuteTime": {
     "end_time": "2024-11-11T19:24:11.849922Z",
     "start_time": "2024-11-11T19:24:11.761320Z"
    }
   },
   "cell_type": "code",
   "source": [
    "import pandas as pd\n",
    "kmeans = pd.read_csv(\"data recuperada/comunas cluster/kmeans_semestres_numdatos.csv\")\n",
    "divisive = pd.read_csv(\"data recuperada/comunas cluster/divisive_semestres_%datos.csv\")\n",
    "jerarquivo = pd.read_csv(\"data recuperada/comunas cluster/jerarquico_semestres_numdatos.csv\")"
   ],
   "id": "b9fe8b68d20a4749",
   "outputs": [],
   "execution_count": 75
  },
  {
   "metadata": {
    "ExecuteTime": {
     "end_time": "2024-11-11T19:24:13.639211Z",
     "start_time": "2024-11-11T19:24:13.612099Z"
    }
   },
   "cell_type": "code",
   "source": "comunas_filtradas = pd.read_csv(\"data recuperada/sample.csv\")",
   "id": "5f79af00f601a48d",
   "outputs": [],
   "execution_count": 76
  },
  {
   "metadata": {
    "ExecuteTime": {
     "end_time": "2024-11-11T19:24:20.372129Z",
     "start_time": "2024-11-11T19:24:20.265662Z"
    }
   },
   "cell_type": "code",
   "source": [
    "import pandas as pd\n",
    "\n",
    "# Cargar los archivos\n",
    "kmeans = pd.read_csv(\"data recuperada/comunas cluster/kmeans_semestres_numdatos.csv\")\n",
    "divisive = pd.read_csv(\"data recuperada/comunas cluster/divisive_semestres_%datos.csv\")\n",
    "jerarquico = pd.read_csv(\"data recuperada/comunas cluster/jerarquico_semestres_numdatos.csv\")\n",
    "comunas_filtradas = pd.read_csv(\"data recuperada/sample.csv\")\n",
    "\n",
    "# Realizar los merges por 'comuna_match' y agregar la columna 'cluster' correspondiente de cada modelo\n",
    "comunas_kmeans = comunas_filtradas.merge(kmeans[['comuna_match', 'cluster']], on='comuna_match', how='left', suffixes=('', '_kmeans'))\n",
    "comunas_divisive = comunas_filtradas.merge(divisive[['comuna_match', 'cluster']], on='comuna_match', how='left', suffixes=('', '_divisive'))\n",
    "comunas_jerarquico = comunas_filtradas.merge(jerarquico[['comuna_match', 'cluster']], on='comuna_match', how='left', suffixes=('', '_jerarquico'))\n",
    "\n",
    "# Renombrar las columnas de cluster resultantes para cada merge\n",
    "comunas_kmeans.rename(columns={'cluster': 'cluster_kmeans'}, inplace=True)\n",
    "comunas_divisive.rename(columns={'cluster': 'cluster_divisive'}, inplace=True)\n",
    "comunas_jerarquico.rename(columns={'cluster': 'cluster_jerarquico'}, inplace=True)\n",
    "\n",
    "# Fusionar todas las columnas de cluster en un solo DataFrame\n",
    "comunas_merged = comunas_filtradas.copy()\n",
    "comunas_merged['cluster_kmeans'] = comunas_kmeans['cluster_kmeans']\n",
    "comunas_merged['cluster_divisive'] = comunas_divisive['cluster_divisive']\n",
    "comunas_merged['cluster_jerarquico'] = comunas_jerarquico['cluster_jerarquico']\n",
    "\n",
    "# Mostrar el resultado\n",
    "print(comunas_merged.head())\n",
    "\n",
    "# Opcional: Guardar el resultado en un archivo CSV\n",
    "comunas_merged.to_csv(\"data recuperada/comunas_filtradas_con_clusters.csv\", index=False)\n"
   ],
   "id": "b130044e1004e930",
   "outputs": [
    {
     "name": "stdout",
     "output_type": "stream",
     "text": [
      "  comuna_match  Total de Datos_2021S1  Total de Datos_2021S2  \\\n",
      "0    ALGARROBO                  142.0                  149.0   \n",
      "1  ANTOFAGASTA                   81.0                   83.0   \n",
      "2        AYSEN                   97.0                   85.0   \n",
      "3         BUIN                  109.0                  111.0   \n",
      "4      CALBUCO                   77.0                   66.0   \n",
      "\n",
      "   Total de Datos_2022S1  Total de Datos_2022S2  Total de Datos_2023S1  \\\n",
      "0                  167.0                  233.0                  244.0   \n",
      "1                   79.0                  119.0                  110.0   \n",
      "2                   80.0                  164.0                   99.0   \n",
      "3                  110.0                  122.0                  142.0   \n",
      "4                   74.0                  149.0                   94.0   \n",
      "\n",
      "   Total de Datos_2023S2  Total de Datos_2024S1  Total de Datos_2024S2  \\\n",
      "0                  248.0                  335.0                   84.0   \n",
      "1                  145.0                  144.0                   27.0   \n",
      "2                  108.0                  133.0                   42.0   \n",
      "3                  136.0                  157.0                   31.0   \n",
      "4                   89.0                  125.0                   25.0   \n",
      "\n",
      "   Total 100-499 m2_2021S1  ...  Suma_Datos_2023_2024S1  \\\n",
      "0                     31.0  ...                   827.0   \n",
      "1                     30.0  ...                   399.0   \n",
      "2                     15.0  ...                   340.0   \n",
      "3                     10.0  ...                   435.0   \n",
      "4                      3.0  ...                   308.0   \n",
      "\n",
      "   Oferta_5000_10000_2023_2024S1  % Oferta 5000-10000 m2 2023_2024S1  \\\n",
      "0                          402.0                           48.609432   \n",
      "1                           66.0                           16.541353   \n",
      "2                          142.0                           41.764706   \n",
      "3                          175.0                           40.229885   \n",
      "4                          173.0                           56.168831   \n",
      "\n",
      "   Cumple_65%_5000_10000  Oferta_10001_100000_2023_2024S1  \\\n",
      "0                      0                            147.0   \n",
      "1                      0                             43.0   \n",
      "2                      0                            109.0   \n",
      "3                      0                             84.0   \n",
      "4                      0                             95.0   \n",
      "\n",
      "   % Oferta 10001-100000 m2 2023_2024S1  Cumple_5%_10001_100000  \\\n",
      "0                             17.775091                       1   \n",
      "1                             10.776942                       1   \n",
      "2                             32.058824                       1   \n",
      "3                             19.310345                       1   \n",
      "4                             30.844156                       1   \n",
      "\n",
      "   cluster_kmeans  cluster_divisive  cluster_jerarquico  \n",
      "0               5                 3                   4  \n",
      "1               2                 1                   1  \n",
      "2               5                 2                   6  \n",
      "3               6                 1                   4  \n",
      "4               5                 0                   3  \n",
      "\n",
      "[5 rows x 315 columns]\n"
     ]
    }
   ],
   "execution_count": 77
  },
  {
   "metadata": {},
   "cell_type": "markdown",
   "source": "### Data de variaciones",
   "id": "b603e6deacf895d"
  },
  {
   "metadata": {
    "ExecuteTime": {
     "end_time": "2024-11-11T19:24:24.654173Z",
     "start_time": "2024-11-11T19:24:24.627310Z"
    }
   },
   "cell_type": "code",
   "source": [
    "import pandas as pd\n",
    "variacion_semestre = pd.read_csv(\"data recuperada/variacion_porcentual_kmeans.csv\")\n",
    "variacion_estadistico = pd.read_csv(\"data recuperada/variacion estadisticos/variacion_porcentual_kmeans_numdatos_estadisticas_comuna.csv\")"
   ],
   "id": "e598abe48ec86e2b",
   "outputs": [],
   "execution_count": 78
  },
  {
   "metadata": {
    "ExecuteTime": {
     "end_time": "2024-11-11T18:39:50.628666Z",
     "start_time": "2024-11-11T18:39:50.619401Z"
    }
   },
   "cell_type": "code",
   "source": "variacion_semestre.columns",
   "id": "b502613abe788341",
   "outputs": [
    {
     "data": {
      "text/plain": [
       "Index(['comuna_match', 'cluster',\n",
       "       'Variacion % Mediana costo_m2_uf 100-499 m2_2021S2',\n",
       "       'Variacion % Mediana costo_m2_uf 100-499 m2_2022S1',\n",
       "       'Variacion % Mediana costo_m2_uf 100-499 m2_2022S2',\n",
       "       'Variacion % Mediana costo_m2_uf 100-499 m2_2023S1',\n",
       "       'Variacion % Mediana costo_m2_uf 100-499 m2_2023S2',\n",
       "       'Variacion % Mediana costo_m2_uf 100-499 m2_2024S1',\n",
       "       'Variacion % Mediana costo_m2_uf 500-4999 m2_2021S2',\n",
       "       'Variacion % Mediana costo_m2_uf 500-4999 m2_2022S1',\n",
       "       'Variacion % Mediana costo_m2_uf 500-4999 m2_2022S2',\n",
       "       'Variacion % Mediana costo_m2_uf 500-4999 m2_2023S1',\n",
       "       'Variacion % Mediana costo_m2_uf 500-4999 m2_2023S2',\n",
       "       'Variacion % Mediana costo_m2_uf 500-4999 m2_2024S1',\n",
       "       'Variacion % Mediana costo_m2_uf 5000-10000 m2_2021S2',\n",
       "       'Variacion % Mediana costo_m2_uf 5000-10000 m2_2022S1',\n",
       "       'Variacion % Mediana costo_m2_uf 5000-10000 m2_2022S2',\n",
       "       'Variacion % Mediana costo_m2_uf 5000-10000 m2_2023S1',\n",
       "       'Variacion % Mediana costo_m2_uf 5000-10000 m2_2023S2',\n",
       "       'Variacion % Mediana costo_m2_uf 5000-10000 m2_2024S1',\n",
       "       'Variacion % Mediana costo_m2_uf 10001-100000 m2_2021S2',\n",
       "       'Variacion % Mediana costo_m2_uf 10001-100000 m2_2022S1',\n",
       "       'Variacion % Mediana costo_m2_uf 10001-100000 m2_2022S2',\n",
       "       'Variacion % Mediana costo_m2_uf 10001-100000 m2_2023S1',\n",
       "       'Variacion % Mediana costo_m2_uf 10001-100000 m2_2023S2',\n",
       "       'Variacion % Mediana costo_m2_uf 10001-100000 m2_2024S1',\n",
       "       'Variacion % Mediana costo_m2_uf >100000 m2_2021S2',\n",
       "       'Variacion % Mediana costo_m2_uf >100000 m2_2022S1',\n",
       "       'Variacion % Mediana costo_m2_uf >100000 m2_2022S2',\n",
       "       'Variacion % Mediana costo_m2_uf >100000 m2_2023S1',\n",
       "       'Variacion % Mediana costo_m2_uf >100000 m2_2023S2',\n",
       "       'Variacion % Mediana costo_m2_uf >100000 m2_2024S1'],\n",
       "      dtype='object')"
      ]
     },
     "execution_count": 43,
     "metadata": {},
     "output_type": "execute_result"
    }
   ],
   "execution_count": 43
  },
  {
   "metadata": {
    "ExecuteTime": {
     "end_time": "2024-11-11T18:40:50.111993Z",
     "start_time": "2024-11-11T18:40:50.107615Z"
    }
   },
   "cell_type": "code",
   "source": "variacion_estadistico.columns",
   "id": "a2fe6872f7971793",
   "outputs": [
    {
     "data": {
      "text/plain": [
       "Index(['comuna_match', 'cluster', 'Mean Variacion 100-499 m2',\n",
       "       'Std Variacion 100-499 m2', 'Max Variacion 100-499 m2',\n",
       "       'Min Variacion 100-499 m2', 'Mean Variacion 500-4999 m2',\n",
       "       'Std Variacion 500-4999 m2', 'Max Variacion 500-4999 m2',\n",
       "       'Min Variacion 500-4999 m2', 'Mean Variacion 5000-10000 m2',\n",
       "       'Std Variacion 5000-10000 m2', 'Max Variacion 5000-10000 m2',\n",
       "       'Min Variacion 5000-10000 m2', 'Mean Variacion 10001-100000 m2',\n",
       "       'Std Variacion 10001-100000 m2', 'Max Variacion 10001-100000 m2',\n",
       "       'Min Variacion 10001-100000 m2'],\n",
       "      dtype='object')"
      ]
     },
     "execution_count": 44,
     "metadata": {},
     "output_type": "execute_result"
    }
   ],
   "execution_count": 44
  },
  {
   "metadata": {
    "ExecuteTime": {
     "end_time": "2024-11-11T19:24:29.773168Z",
     "start_time": "2024-11-11T19:24:29.756249Z"
    }
   },
   "cell_type": "code",
   "source": [
    "\n",
    "# Seleccionar columnas de variación de `variacion_semestre` (excluyendo 'cluster')\n",
    "columnas_variacion = [col for col in variacion_semestre.columns if 'Variacion' in col and col != 'cluster']\n",
    "variacion_semestre_filtered = variacion_semestre[['comuna_match'] + columnas_variacion]\n",
    "\n",
    "# Seleccionar columnas 'Mean' y 'Std' de `variacion_estadistico` (excluyendo 'cluster')\n",
    "columnas_mean_std = [col for col in variacion_estadistico.columns if col.startswith('Mean') or col.startswith('Std')]\n",
    "variacion_estadistico_filtered = variacion_estadistico[['comuna_match'] + columnas_mean_std]\n",
    "\n",
    "# Merge de `comunas_merged` con las columnas de variación de `variacion_semestre`\n",
    "comunas_merged = comunas_merged.merge(variacion_semestre_filtered, on='comuna_match', how='left')\n",
    "\n",
    "# Merge de `comunas_merged` con las columnas 'Mean' y 'Std' de `variacion_estadistico`\n",
    "comunas_merged = comunas_merged.merge(variacion_estadistico_filtered, on='comuna_match', how='left')\n",
    "\n",
    "# Mostrar una muestra del resultado\n",
    "print(comunas_merged.head())"
   ],
   "id": "357563a6f9f5768",
   "outputs": [
    {
     "name": "stdout",
     "output_type": "stream",
     "text": [
      "  comuna_match  Total de Datos_2021S1  Total de Datos_2021S2  \\\n",
      "0    ALGARROBO                  142.0                  149.0   \n",
      "1  ANTOFAGASTA                   81.0                   83.0   \n",
      "2        AYSEN                   97.0                   85.0   \n",
      "3         BUIN                  109.0                  111.0   \n",
      "4      CALBUCO                   77.0                   66.0   \n",
      "\n",
      "   Total de Datos_2022S1  Total de Datos_2022S2  Total de Datos_2023S1  \\\n",
      "0                  167.0                  233.0                  244.0   \n",
      "1                   79.0                  119.0                  110.0   \n",
      "2                   80.0                  164.0                   99.0   \n",
      "3                  110.0                  122.0                  142.0   \n",
      "4                   74.0                  149.0                   94.0   \n",
      "\n",
      "   Total de Datos_2023S2  Total de Datos_2024S1  Total de Datos_2024S2  \\\n",
      "0                  248.0                  335.0                   84.0   \n",
      "1                  145.0                  144.0                   27.0   \n",
      "2                  108.0                  133.0                   42.0   \n",
      "3                  136.0                  157.0                   31.0   \n",
      "4                   89.0                  125.0                   25.0   \n",
      "\n",
      "   Total 100-499 m2_2021S1  ...  \\\n",
      "0                     31.0  ...   \n",
      "1                     30.0  ...   \n",
      "2                     15.0  ...   \n",
      "3                     10.0  ...   \n",
      "4                      3.0  ...   \n",
      "\n",
      "   Variacion % Mediana costo_m2_uf >100000 m2_2023S2  \\\n",
      "0                                         -21.496303   \n",
      "1                                           0.000000   \n",
      "2                                         -84.753028   \n",
      "3                                           5.000000   \n",
      "4                                         -56.091574   \n",
      "\n",
      "   Variacion % Mediana costo_m2_uf >100000 m2_2024S1  \\\n",
      "0                                         -61.206610   \n",
      "1                                        -100.000000   \n",
      "2                                        1318.924009   \n",
      "3                                         -31.729089   \n",
      "4                                          80.115880   \n",
      "\n",
      "   Mean Variacion 100-499 m2  Std Variacion 100-499 m2  \\\n",
      "0                   0.085520                  6.823771   \n",
      "1                   5.516021                 12.523461   \n",
      "2                  50.064952                126.869050   \n",
      "3                 114.932927                193.294685   \n",
      "4                 406.252748                973.555584   \n",
      "\n",
      "   Mean Variacion 500-4999 m2  Std Variacion 500-4999 m2  \\\n",
      "0                   -4.054944                  20.201649   \n",
      "1                   11.977586                  35.231405   \n",
      "2                   34.455113                  54.398862   \n",
      "3                    3.204142                  30.260741   \n",
      "4                   16.058649                  39.576431   \n",
      "\n",
      "   Mean Variacion 5000-10000 m2  Std Variacion 5000-10000 m2  \\\n",
      "0                      4.053153                    12.570654   \n",
      "1                    233.941769                   463.216472   \n",
      "2                      2.529233                    38.937221   \n",
      "3                     13.023283                    61.315459   \n",
      "4                     10.506273                    21.281663   \n",
      "\n",
      "   Mean Variacion 10001-100000 m2  Std Variacion 10001-100000 m2  \n",
      "0                        6.120108                      77.122299  \n",
      "1                      139.157764                     253.473475  \n",
      "2                        9.544235                      18.401784  \n",
      "3                       68.164764                     161.487865  \n",
      "4                        7.938149                      40.431644  \n",
      "\n",
      "[5 rows x 353 columns]\n"
     ]
    }
   ],
   "execution_count": 79
  },
  {
   "metadata": {
    "ExecuteTime": {
     "end_time": "2024-11-11T19:26:18.891592Z",
     "start_time": "2024-11-11T19:26:18.870365Z"
    }
   },
   "cell_type": "code",
   "source": [
    "# Definir los modelos de cluster y los rangos de superficie a analizar\n",
    "modelos_cluster = ['cluster_kmeans', 'cluster_jerarquico', 'cluster_divisive']\n",
    "rangos_superficie = ['500-4999 m2', '10001-100000 m2']\n",
    "\n",
    "# Para cada modelo de cluster, calcula el promedio del Mean Variacion por cluster y por rango de superficie\n",
    "for modelo in modelos_cluster:\n",
    "    for rango in rangos_superficie:\n",
    "        # Seleccionar la columna de Mean Variacion para el rango actual\n",
    "        columna_mean_variacion = f'Mean Variacion {rango}'\n",
    "        \n",
    "        # Calcular el promedio de Mean Variacion agrupado por el cluster del modelo actual\n",
    "        promedio_por_cluster = (\n",
    "            comunas_merged.groupby(modelo)[columna_mean_variacion].mean().rename(f'Promedio {columna_mean_variacion} por {modelo}')\n",
    "        )\n",
    "\n",
    "        # Unir el promedio calculado con comunas_merged repitiendo los valores por cluster\n",
    "        comunas_merged = comunas_merged.merge(promedio_por_cluster, on=modelo, how='left')\n",
    "        \n",
    " # Mostrar una muestra del resultado\n",
    "print(comunas_merged.head())       "
   ],
   "id": "8d9cc848a77196cd",
   "outputs": [
    {
     "name": "stdout",
     "output_type": "stream",
     "text": [
      "  comuna_match  Total de Datos_2021S1  Total de Datos_2021S2  \\\n",
      "0    ALGARROBO                  142.0                  149.0   \n",
      "1  ANTOFAGASTA                   81.0                   83.0   \n",
      "2        AYSEN                   97.0                   85.0   \n",
      "3         BUIN                  109.0                  111.0   \n",
      "4      CALBUCO                   77.0                   66.0   \n",
      "\n",
      "   Total de Datos_2022S1  Total de Datos_2022S2  Total de Datos_2023S1  \\\n",
      "0                  167.0                  233.0                  244.0   \n",
      "1                   79.0                  119.0                  110.0   \n",
      "2                   80.0                  164.0                   99.0   \n",
      "3                  110.0                  122.0                  142.0   \n",
      "4                   74.0                  149.0                   94.0   \n",
      "\n",
      "   Total de Datos_2023S2  Total de Datos_2024S1  Total de Datos_2024S2  \\\n",
      "0                  248.0                  335.0                   84.0   \n",
      "1                  145.0                  144.0                   27.0   \n",
      "2                  108.0                  133.0                   42.0   \n",
      "3                  136.0                  157.0                   31.0   \n",
      "4                   89.0                  125.0                   25.0   \n",
      "\n",
      "   Total 100-499 m2_2021S1  ...  Mean Variacion 5000-10000 m2  \\\n",
      "0                     31.0  ...                      4.053153   \n",
      "1                     30.0  ...                    233.941769   \n",
      "2                     15.0  ...                      2.529233   \n",
      "3                     10.0  ...                     13.023283   \n",
      "4                      3.0  ...                     10.506273   \n",
      "\n",
      "   Std Variacion 5000-10000 m2  Mean Variacion 10001-100000 m2  \\\n",
      "0                    12.570654                        6.120108   \n",
      "1                   463.216472                      139.157764   \n",
      "2                    38.937221                        9.544235   \n",
      "3                    61.315459                       68.164764   \n",
      "4                    21.281663                        7.938149   \n",
      "\n",
      "   Std Variacion 10001-100000 m2  \\\n",
      "0                      77.122299   \n",
      "1                     253.473475   \n",
      "2                      18.401784   \n",
      "3                     161.487865   \n",
      "4                      40.431644   \n",
      "\n",
      "   Promedio Mean Variacion 500-4999 m2 por cluster_kmeans  \\\n",
      "0                                          46.660723        \n",
      "1                                           7.413028        \n",
      "2                                          46.660723        \n",
      "3                                          11.813759        \n",
      "4                                          46.660723        \n",
      "\n",
      "   Promedio Mean Variacion 10001-100000 m2 por cluster_kmeans  \\\n",
      "0                                          43.705939            \n",
      "1                                         234.139859            \n",
      "2                                          43.705939            \n",
      "3                                        5770.134832            \n",
      "4                                          43.705939            \n",
      "\n",
      "   Promedio Mean Variacion 500-4999 m2 por cluster_jerarquico  \\\n",
      "0                                          17.281347            \n",
      "1                                           6.227039            \n",
      "2                                          84.407812            \n",
      "3                                          17.281347            \n",
      "4                                          61.224218            \n",
      "\n",
      "   Promedio Mean Variacion 10001-100000 m2 por cluster_jerarquico  \\\n",
      "0                                        4231.700774                \n",
      "1                                         114.589915                \n",
      "2                                          17.816564                \n",
      "3                                        4231.700774                \n",
      "4                                          46.899701                \n",
      "\n",
      "   Promedio Mean Variacion 500-4999 m2 por cluster_divisive  \\\n",
      "0                                          35.439319          \n",
      "1                                          10.918425          \n",
      "2                                         187.871968          \n",
      "3                                          10.918425          \n",
      "4                                          49.752347          \n",
      "\n",
      "   Promedio Mean Variacion 10001-100000 m2 por cluster_divisive  \n",
      "0                                        1457.683497             \n",
      "1                                        2090.720676             \n",
      "2                                          15.469439             \n",
      "3                                        2090.720676             \n",
      "4                                          11.497961             \n",
      "\n",
      "[5 rows x 359 columns]\n"
     ]
    }
   ],
   "execution_count": 80
  },
  {
   "metadata": {
    "ExecuteTime": {
     "end_time": "2024-11-11T19:26:26.247548Z",
     "start_time": "2024-11-11T19:26:26.239128Z"
    }
   },
   "cell_type": "code",
   "source": [
    "# Definir los modelos de clustering y los rangos de superficie de interés\n",
    "modelos_cluster = ['cluster_kmeans', 'cluster_divisive', 'cluster_jerarquico']\n",
    "rangos_superficie = ['500-4999 m2', '10001-100000 m2']\n",
    "\n",
    "# Iterar sobre cada modelo de clustering\n",
    "for modelo in modelos_cluster:\n",
    "    print(f\"\\nModelo: {modelo}\")\n",
    "    \n",
    "    # Calcular y mostrar el promedio de la variación para cada rango, agrupado por cluster\n",
    "    for rango in rangos_superficie:\n",
    "        # Seleccionar la columna de variación media para el rango actual\n",
    "        columna_variacion = f\"Mean Variacion {rango}\"\n",
    "        \n",
    "        # Calcular el promedio de la variación por cluster\n",
    "        promedio_variacion_por_cluster = comunas_merged.groupby(modelo)[columna_variacion].mean()\n",
    "        \n",
    "        # Mostrar los resultados\n",
    "        print(f\"\\nPromedio de variación para el rango {rango} por cluster:\")\n",
    "        print(promedio_variacion_por_cluster)"
   ],
   "id": "3ecf75d5c7812bed",
   "outputs": [
    {
     "name": "stdout",
     "output_type": "stream",
     "text": [
      "\n",
      "Modelo: cluster_kmeans\n",
      "\n",
      "Promedio de variación para el rango 500-4999 m2 por cluster:\n",
      "cluster_kmeans\n",
      "0    123.036856\n",
      "1     58.259183\n",
      "2      7.413028\n",
      "3     14.251612\n",
      "4     37.841677\n",
      "5     46.660723\n",
      "6     11.813759\n",
      "Name: Mean Variacion 500-4999 m2, dtype: float64\n",
      "\n",
      "Promedio de variación para el rango 10001-100000 m2 por cluster:\n",
      "cluster_kmeans\n",
      "0       6.974368\n",
      "1      28.581239\n",
      "2     234.139859\n",
      "3      36.059669\n",
      "4      11.740952\n",
      "5      43.705939\n",
      "6    5770.134832\n",
      "Name: Mean Variacion 10001-100000 m2, dtype: float64\n",
      "\n",
      "Modelo: cluster_divisive\n",
      "\n",
      "Promedio de variación para el rango 500-4999 m2 por cluster:\n",
      "cluster_divisive\n",
      "0     49.752347\n",
      "1     10.918425\n",
      "2    187.871968\n",
      "3     35.439319\n",
      "5    101.234756\n",
      "Name: Mean Variacion 500-4999 m2, dtype: float64\n",
      "\n",
      "Promedio de variación para el rango 10001-100000 m2 por cluster:\n",
      "cluster_divisive\n",
      "0      11.497961\n",
      "1    2090.720676\n",
      "2      15.469439\n",
      "3    1457.683497\n",
      "5      23.715209\n",
      "Name: Mean Variacion 10001-100000 m2, dtype: float64\n",
      "\n",
      "Modelo: cluster_jerarquico\n",
      "\n",
      "Promedio de variación para el rango 500-4999 m2 por cluster:\n",
      "cluster_jerarquico\n",
      "0    24.521822\n",
      "1     6.227039\n",
      "2     1.951322\n",
      "3    61.224218\n",
      "4    17.281347\n",
      "5    12.434504\n",
      "6    84.407812\n",
      "Name: Mean Variacion 500-4999 m2, dtype: float64\n",
      "\n",
      "Promedio de variación para el rango 10001-100000 m2 por cluster:\n",
      "cluster_jerarquico\n",
      "0      30.463944\n",
      "1     114.589915\n",
      "2     309.107632\n",
      "3      46.899701\n",
      "4    4231.700774\n",
      "5      27.539363\n",
      "6      17.816564\n",
      "Name: Mean Variacion 10001-100000 m2, dtype: float64\n"
     ]
    }
   ],
   "execution_count": 81
  },
  {
   "metadata": {
    "ExecuteTime": {
     "end_time": "2024-11-11T19:26:30.162534Z",
     "start_time": "2024-11-11T19:26:30.130997Z"
    }
   },
   "cell_type": "code",
   "source": "comunas_merged.to_csv(\"data recuperada/comunas_filtradas_con_clusters_variacion.csv\", index=False)",
   "id": "833d9edcda152f76",
   "outputs": [],
   "execution_count": 82
  },
  {
   "metadata": {
    "ExecuteTime": {
     "end_time": "2024-11-11T19:38:08.807038Z",
     "start_time": "2024-11-11T19:38:08.796378Z"
    }
   },
   "cell_type": "code",
   "source": [
    "# Seleccionar las columnas de interés\n",
    "columnas_seleccionadas = [\n",
    "    'comuna_match', \n",
    "    'cluster_kmeans', 'cluster_divisive', 'cluster_jerarquico', \n",
    "    'Mean Variacion 500-4999 m2', 'Mean Variacion 10001-100000 m2', \n",
    "    'Promedio Mean Variacion 500-4999 m2 por cluster_kmeans', \n",
    "    'Promedio Mean Variacion 10001-100000 m2 por cluster_kmeans', \n",
    "    'Promedio Mean Variacion 500-4999 m2 por cluster_divisive', \n",
    "    'Promedio Mean Variacion 10001-100000 m2 por cluster_divisive', \n",
    "    'Promedio Mean Variacion 500-4999 m2 por cluster_jerarquico', \n",
    "    'Promedio Mean Variacion 10001-100000 m2 por cluster_jerarquico'\n",
    "]\n",
    "\n",
    "# Crear una nueva DataFrame con las columnas seleccionadas\n",
    "comunas_sample_filas = comunas_merged[columnas_seleccionadas].copy()\n",
    "\n",
    "# Guardar el resultado en un archivo CSV (opcional)\n",
    "comunas_sample_filas.to_csv(\"data recuperada/comunas_sample_filas.csv\", index=False)\n",
    "\n",
    "# Mostrar una muestra de la nueva data\n",
    "print(comunas_sample_filas.head())"
   ],
   "id": "ae358bfc104d20d2",
   "outputs": [
    {
     "name": "stdout",
     "output_type": "stream",
     "text": [
      "  comuna_match  cluster_kmeans  cluster_divisive  cluster_jerarquico  \\\n",
      "0    ALGARROBO               5                 3                   4   \n",
      "1  ANTOFAGASTA               2                 1                   1   \n",
      "2        AYSEN               5                 2                   6   \n",
      "3         BUIN               6                 1                   4   \n",
      "4      CALBUCO               5                 0                   3   \n",
      "\n",
      "   Mean Variacion 500-4999 m2  Mean Variacion 10001-100000 m2  \\\n",
      "0                   -4.054944                        6.120108   \n",
      "1                   11.977586                      139.157764   \n",
      "2                   34.455113                        9.544235   \n",
      "3                    3.204142                       68.164764   \n",
      "4                   16.058649                        7.938149   \n",
      "\n",
      "   Promedio Mean Variacion 500-4999 m2 por cluster_kmeans  \\\n",
      "0                                          46.660723        \n",
      "1                                           7.413028        \n",
      "2                                          46.660723        \n",
      "3                                          11.813759        \n",
      "4                                          46.660723        \n",
      "\n",
      "   Promedio Mean Variacion 10001-100000 m2 por cluster_kmeans  \\\n",
      "0                                          43.705939            \n",
      "1                                         234.139859            \n",
      "2                                          43.705939            \n",
      "3                                        5770.134832            \n",
      "4                                          43.705939            \n",
      "\n",
      "   Promedio Mean Variacion 500-4999 m2 por cluster_divisive  \\\n",
      "0                                          35.439319          \n",
      "1                                          10.918425          \n",
      "2                                         187.871968          \n",
      "3                                          10.918425          \n",
      "4                                          49.752347          \n",
      "\n",
      "   Promedio Mean Variacion 10001-100000 m2 por cluster_divisive  \\\n",
      "0                                        1457.683497              \n",
      "1                                        2090.720676              \n",
      "2                                          15.469439              \n",
      "3                                        2090.720676              \n",
      "4                                          11.497961              \n",
      "\n",
      "   Promedio Mean Variacion 500-4999 m2 por cluster_jerarquico  \\\n",
      "0                                          17.281347            \n",
      "1                                           6.227039            \n",
      "2                                          84.407812            \n",
      "3                                          17.281347            \n",
      "4                                          61.224218            \n",
      "\n",
      "   Promedio Mean Variacion 10001-100000 m2 por cluster_jerarquico  \n",
      "0                                        4231.700774               \n",
      "1                                         114.589915               \n",
      "2                                          17.816564               \n",
      "3                                        4231.700774               \n",
      "4                                          46.899701               \n"
     ]
    }
   ],
   "execution_count": 85
  }
 ],
 "metadata": {
  "kernelspec": {
   "display_name": "Python 3",
   "language": "python",
   "name": "python3"
  },
  "language_info": {
   "codemirror_mode": {
    "name": "ipython",
    "version": 2
   },
   "file_extension": ".py",
   "mimetype": "text/x-python",
   "name": "python",
   "nbconvert_exporter": "python",
   "pygments_lexer": "ipython2",
   "version": "2.7.6"
  }
 },
 "nbformat": 4,
 "nbformat_minor": 5
}
